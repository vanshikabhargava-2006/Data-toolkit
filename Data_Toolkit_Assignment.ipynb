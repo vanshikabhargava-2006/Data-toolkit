{
  "nbformat": 4,
  "nbformat_minor": 0,
  "metadata": {
    "colab": {
      "provenance": []
    },
    "kernelspec": {
      "name": "python3",
      "display_name": "Python 3"
    },
    "language_info": {
      "name": "python"
    }
  },
  "cells": [
    {
      "cell_type": "markdown",
      "source": [
        "## Theory Questions"
      ],
      "metadata": {
        "id": "pKNdn0NkkurF"
      }
    },
    {
      "cell_type": "markdown",
      "source": [
        "1. What is NumPy, and why is it widely used in Python?\n",
        "\n",
        "   ->NumPy is a powerful Python library used for numerical computing. It provides efficient support for large, multi-dimensional arrays and matrices, along with a collection of mathematical functions to operate on them.\n",
        "\n",
        "It's widely used because:\n",
        "- It allows fast array operations with less memory usage.\n",
        "- Supports multi-dimensional arrays and element-wise operations.\n",
        "- Integrates well with other libraries like Pandas, SciPy, and Matplotlib.\n",
        "- It’s essential for scientific computing, data analysis, and machine learning due to its performance and ease of use."
      ],
      "metadata": {
        "id": "oe4dAbpbk8KQ"
      }
    },
    {
      "cell_type": "markdown",
      "source": [
        "2.How does broadcasting work in NumPy?\n",
        "\n",
        "   ->**Broadcasting** in NumPy is a mechanism that allows NumPy to perform element-wise operations on arrays of different shapes. It automatically expands the smaller array to match the shape of the larger array, so operations can be performed without explicit looping.\n",
        "\n",
        "### How it works:\n",
        "1. **Shape alignment:** NumPy compares the shapes of the two arrays. Starting from the rightmost dimensions, it checks if the dimensions are either the same or if one of them is 1.\n",
        "2. **Expansion:** If the dimensions are not the same, NumPy \"broadcasts\" the smaller array to match the larger one by repeating its elements as needed.\n",
        "3. **Element-wise operation:** Once the arrays are aligned, the operation is performed element-wise.\n",
        "\n",
        "### Example:\n",
        "```python\n",
        "import numpy as np\n",
        "\n",
        "a = np.array([1, 2, 3])      # Shape (3,)\n",
        "b = np.array([[10], [20]])   # Shape (2, 1)\n",
        "\n",
        "result = a + b               # Broadcasting occurs\n",
        "```\n",
        "\n",
        "Here, `a` (shape (3,)) is broadcasted to match the shape of `b` (shape (2, 3)), and the addition is performed element-wise.\n",
        "\n",
        "In short, broadcasting simplifies code and improves performance by eliminating the need for explicit loops when performing operations on arrays of different shapes."
      ],
      "metadata": {
        "id": "ZHyYmrGXl26V"
      }
    },
    {
      "cell_type": "markdown",
      "source": [],
      "metadata": {
        "id": "hqEyt7n6mR8V"
      }
    },
    {
      "cell_type": "markdown",
      "source": [
        "3.What is a Pandas DataFrame?\n",
        "\n",
        "  ->A **Pandas DataFrame** is a two-dimensional, labeled data structure in Python, similar to a table or spreadsheet, that can hold data of various types (integers, floats, strings, etc.). It is part of the **Pandas** library and is widely used for data manipulation and analysis.\n",
        "\n",
        "### Key Features:\n",
        "- **Rows and Columns:** Data is organized into rows and columns, with each column potentially holding different types of data.\n",
        "- **Labeled axes:** Both rows and columns have labels (indices), which makes it easy to access and manipulate data.\n",
        "- **Flexible:** You can perform various operations like filtering, grouping, merging, reshaping, and handling missing data.\n",
        "\n",
        "### Example:\n",
        "```python\n",
        "import pandas as pd\n",
        "\n",
        "# Creating a DataFrame\n",
        "data = {'Name': ['Alice', 'Bob', 'Charlie'],\n",
        "        'Age': [24, 27, 22],\n",
        "        'City': ['New York', 'Los Angeles', 'Chicago']}\n",
        "\n",
        "df = pd.DataFrame(data)\n",
        "\n",
        "print(df)\n",
        "```\n",
        "\n",
        "**Output:**\n",
        "```\n",
        "      Name  Age         City\n",
        "0    Alice   24     New York\n",
        "1      Bob   27  Los Angeles\n",
        "2  Charlie   22      Chicago\n",
        "```\n",
        "\n",
        "In short, a Pandas DataFrame is a powerful tool for data manipulation and analysis, providing easy access to data, transformation, and analysis operations."
      ],
      "metadata": {
        "id": "Kkd7Zi0jmVB1"
      }
    },
    {
      "cell_type": "markdown",
      "source": [
        "4.Explain the use of the groupby() method in Pandas.\n",
        "\n",
        "  ->The **`groupby()`** method in Pandas is used to group data based on certain criteria (such as column values), allowing you to perform operations on each group independently. It's commonly used for aggregation, summarization, or transformation of data.\n",
        "\n",
        "### How it works:\n",
        "1. **Grouping:** It splits the data into groups based on the values of one or more columns.\n",
        "2. **Applying:** It applies a function (e.g., sum, mean, count) to each group.\n",
        "3. **Combining:** It combines the results back into a DataFrame or Series.\n",
        "\n",
        "### Example:\n",
        "```python\n",
        "import pandas as pd\n",
        "\n",
        "# Sample DataFrame\n",
        "data = {'Category': ['A', 'B', 'A', 'B', 'A'],\n",
        "        'Value': [10, 20, 30, 40, 50]}\n",
        "\n",
        "df = pd.DataFrame(data)\n",
        "\n",
        "# Grouping by 'Category' and calculating the sum of 'Value'\n",
        "grouped = df.groupby('Category')['Value'].sum()\n",
        "\n",
        "print(grouped)\n",
        "```\n",
        "\n",
        "**Output:**\n",
        "```\n",
        "Category\n",
        "A    90\n",
        "B    60\n",
        "Name: Value, dtype: int64\n",
        "```\n",
        "\n",
        "### Key Use Cases:\n",
        "- **Aggregation:** Compute statistical summaries like sum, mean, count, etc.\n",
        "- **Grouping data:** Segment data based on certain features for analysis.\n",
        "- **Transformation:** Apply custom functions to each group.\n",
        "\n",
        "In short, `groupby()` in Pandas helps organize data into groups to perform operations on each group efficiently."
      ],
      "metadata": {
        "id": "8qH8hasMmmbe"
      }
    },
    {
      "cell_type": "markdown",
      "source": [
        "5.Why is Seaborn preferred for statistical visualizations?\n",
        "\n",
        "  ->**Seaborn** is preferred for statistical visualizations in Python because it provides a high-level interface for creating informative, attractive, and complex statistical plots with minimal code. It offers built-in support for common statistical visualizations (like histograms, scatter plots, and heatmaps), works seamlessly with Pandas DataFrames, and has automatic aesthetics (like color palettes and styling), making it easier to interpret data quickly and effectively."
      ],
      "metadata": {
        "id": "7maQfDJcm1ar"
      }
    },
    {
      "cell_type": "markdown",
      "source": [
        "6.What are the differences between NumPy arrays and Python lists?\n",
        "\n",
        "  ->Here are the key differences between **NumPy arrays** and **Python lists**:\n",
        "\n",
        "1. **Performance:**\n",
        "   - **NumPy arrays** are faster and more memory-efficient because they are implemented in C and store data in contiguous memory blocks.\n",
        "   - **Python lists** are slower and less memory-efficient, as they are more flexible but store data as references to objects.\n",
        "\n",
        "2. **Homogeneity:**\n",
        "   - **NumPy arrays** require elements to be of the same data type (e.g., all integers or floats), which enables optimized operations.\n",
        "   - **Python lists** can hold elements of different data types (e.g., integers, strings, etc.).\n",
        "\n",
        "3. **Size and Shape:**\n",
        "   - **NumPy arrays** can be multi-dimensional (e.g., 1D, 2D, 3D arrays).\n",
        "   - **Python lists** are inherently 1D, though you can create nested lists to simulate multi-dimensional data.\n",
        "\n",
        "4. **Operations:**\n",
        "   - **NumPy arrays** support efficient element-wise operations (e.g., addition, multiplication) directly on arrays without loops.\n",
        "   - **Python lists** require explicit loops to perform similar operations.\n",
        "\n",
        "5. **Functionality:**\n",
        "   - **NumPy arrays** come with a wide range of mathematical functions and methods for linear algebra, statistics, etc.\n",
        "   - **Python lists** do not have built-in mathematical functions; they require manual implementation for numerical operations.\n",
        "\n",
        "In short, NumPy arrays are specialized, more efficient, and better suited for numerical and scientific computing, while Python lists are more flexible but slower and less optimized for mathematical operations."
      ],
      "metadata": {
        "id": "EZqkdP8PnNIB"
      }
    },
    {
      "cell_type": "markdown",
      "source": [
        "7.What is a heatmap, and when should it be used?\n",
        "\n",
        "   ->A **heatmap** in Python is a graphical representation of data where individual values are displayed in a matrix, with colors representing the magnitude of the values. It is often used to visualize the relationships or patterns between two variables, showing how one variable changes in relation to another.\n",
        "\n",
        "### When to use a heatmap in Python:\n",
        "1. **Correlation Matrices:** To visualize the correlation between multiple variables in a dataset (using libraries like Seaborn).\n",
        "2. **Geospatial Data:** To display density or intensity of data points on a map, like showing weather patterns or population density.\n",
        "3. **Visualizing Large Datasets:** To identify patterns, clusters, or outliers in 2D data.\n",
        "4. **Comparing Data:** When comparing two sets of data across categories or groups.\n",
        "\n",
        "### Example (Using Seaborn):\n",
        "```python\n",
        "import seaborn as sns\n",
        "import matplotlib.pyplot as plt\n",
        "import numpy as np\n",
        "\n",
        "# Create a correlation matrix\n",
        "data = np.random.rand(10, 12)\n",
        "sns.heatmap(data, annot=True, cmap='coolwarm')\n",
        "plt.show()\n",
        "```\n",
        "\n",
        "In short, a heatmap in Python is a powerful tool for visualizing complex relationships and patterns in 2D data, making it easier to interpret large datasets or correlation matrices."
      ],
      "metadata": {
        "id": "RsO4t5finlEl"
      }
    },
    {
      "cell_type": "markdown",
      "source": [
        "8.What does the term “vectorized operation” mean in NumPy?\n",
        "\n",
        "  ->In **NumPy**, the term **\"vectorized operation\"** refers to performing operations on entire arrays (or vectors) at once, rather than using explicit loops to iterate through the elements individually. This allows NumPy to leverage highly optimized, low-level implementations, typically written in C, for efficient computation.\n",
        "\n",
        "### Key Points:\n",
        "- **Efficiency:** Vectorized operations are faster because they are executed in a compiled, low-level manner, eliminating the need for Python-level loops.\n",
        "- **Simplicity:** These operations are concise and easy to write, as they operate on entire arrays rather than individual elements.\n",
        "- **Automatic Broadcasting:** Vectorized operations can automatically handle arrays of different shapes (via broadcasting), which makes them more flexible.\n",
        "\n",
        "### Example:\n",
        "Instead of looping through an array to add a value to each element, you can directly perform the operation on the entire array:\n",
        "\n",
        "```python\n",
        "import numpy as np\n",
        "\n",
        "# Without vectorization (using a loop)\n",
        "arr = np.array([1, 2, 3, 4])\n",
        "arr_add = np.array([0, 0, 0, 0])\n",
        "for i in range(len(arr)):\n",
        "    arr_add[i] = arr[i] + 5\n",
        "\n",
        "# With vectorization\n",
        "arr_add_vec = arr + 5  # This is a vectorized operation\n",
        "\n",
        "print(arr_add_vec)\n",
        "```\n",
        "\n",
        "**Output:**\n",
        "```\n",
        "[6 7 8 9]\n",
        "```\n",
        "\n"
      ],
      "metadata": {
        "id": "5Ib6qUfSn2yz"
      }
    },
    {
      "cell_type": "markdown",
      "source": [
        "9.How does Matplotlib differ from Plotly?\n",
        "\n",
        "   ->In Python, **Matplotlib** and **Plotly** differ primarily in their focus on **interactivity** and **output types**:\n",
        "\n",
        "1. **Interactivity:**\n",
        "   - **Matplotlib:** Primarily designed for **static** visualizations. While you can enable some interactivity (e.g., zoom, pan), it's not the main focus.\n",
        "   - **Plotly:** Built for **interactive** visualizations, allowing you to zoom, pan, and hover over elements for more detailed information. Great for dynamic data exploration.\n",
        "\n",
        "2. **Output Type:**\n",
        "   - **Matplotlib:** Generates **static plots** (e.g., PNG, SVG, PDF), ideal for creating publication-quality images.\n",
        "   - **Plotly:** Creates **interactive plots** that can be embedded in web applications and are typically displayed in HTML.\n",
        "\n",
        "3. **Customization:**\n",
        "   - **Matplotlib:** Offers more **fine-grained control** over plot customization, allowing you to adjust every element of the plot in detail.\n",
        "   - **Plotly:** Provides **simpler customization** with built-in interactive features, but it might not offer as much low-level control as Matplotlib.\n",
        "\n",
        "4. **Ease of Use:**\n",
        "   - **Matplotlib:** Has a steeper learning curve and requires more lines of code for customization.\n",
        "   - **Plotly:** Easier to use for creating interactive visualizations with less code and automatic interactivity.\n",
        "\n",
        "5. **Use Case:**\n",
        "   - **Matplotlib:** Best suited for static visualizations, such as when preparing figures for scientific papers or reports.\n",
        "   - **Plotly:** Ideal for interactive visualizations, dashboards, and web-based applications where user interaction is needed.\n",
        "\n",
        "### Summary:\n",
        "- **Matplotlib** is great for **static, detailed, and customizable plots**.\n",
        "- **Plotly** excels in **interactive, dynamic visualizations**.\n",
        "\n",
        "In short, **Matplotlib** is used for static, customizable plots, while **Plotly** is preferred for interactive, web-based visualizations."
      ],
      "metadata": {
        "id": "zGLpeFtToHc_"
      }
    },
    {
      "cell_type": "markdown",
      "source": [
        "10.What is the significance of hierarchical indexing in Pandas?\n",
        "\n",
        "   ->**Hierarchical indexing** in **Pandas** (also called **MultiIndex**) allows you to work with data that has multiple levels of indexing (i.e., more than one index), which is useful for representing complex, multi-dimensional data structures in a 2D DataFrame or Series.\n",
        "\n",
        "### Significance of Hierarchical Indexing:\n",
        "1. **Multi-dimensional Data Representation:**\n",
        "   - Hierarchical indexing allows you to represent and access multi-dimensional data in a two-dimensional structure, making it easier to handle datasets that have multiple categories or levels.\n",
        "\n",
        "2. **Data Organization and Grouping:**\n",
        "   - It enables you to group data by multiple levels (e.g., by \"Region\" and \"Year\") and perform operations on subsets of the data, enhancing data organization.\n",
        "\n",
        "3. **Efficient Data Retrieval:**\n",
        "   - You can access subsets of data based on multiple index levels more efficiently. This is helpful when you need to work with data from different categories or time periods in a single dataset.\n",
        "\n",
        "4. **Complex Aggregations:**\n",
        "   - Hierarchical indexing simplifies the process of aggregating or applying operations across different levels of data, allowing for more complex computations, such as grouping by both \"Country\" and \"City\" for statistical analysis.\n",
        "\n",
        "5. **Improved Readability and Management:**\n",
        "   - It improves the readability and management of data by clearly labeling different levels of data in a structured way, making it easier to interpret and navigate large datasets.\n",
        "\n",
        "### Example:\n",
        "```python\n",
        "import pandas as pd\n",
        "\n",
        "# Sample data with multi-level indexing\n",
        "data = {\n",
        "    'Region': ['North', 'North', 'South', 'South'],\n",
        "    'Year': [2020, 2021, 2020, 2021],\n",
        "    'Sales': [200, 250, 150, 300]\n",
        "}\n",
        "\n",
        "# Create a DataFrame with hierarchical indexing\n",
        "df = pd.DataFrame(data)\n",
        "df.set_index(['Region', 'Year'], inplace=True)\n",
        "\n",
        "print(df)\n",
        "```\n",
        "\n",
        "**Output:**\n",
        "```\n",
        "               Sales\n",
        "Region Year         \n",
        "North 2020     200\n",
        "      2021     250\n",
        "South 2020     150\n",
        "      2021     300\n",
        "```\n",
        "\n",
        "### Summary:\n",
        "Hierarchical indexing in Pandas allows you to represent complex data relationships by using multiple levels of indexing. This enables easier grouping, data aggregation, and efficient access to subsets of multi-dimensional data, making it an essential tool for handling large and structured datasets."
      ],
      "metadata": {
        "id": "e6prxY42tU2L"
      }
    },
    {
      "cell_type": "markdown",
      "source": [
        "11.What is the role of Seaborn’s pairplot() function?\n",
        "\n",
        "  ->The **`pairplot()`** function in **Seaborn** is used to create a **matrix of scatter plots** for all pairs of numerical variables in a dataset. It helps to visualize the relationships between each pair of features and also includes histograms or KDEs (Kernel Density Estimation) along the diagonal to show the distribution of individual variables.\n",
        "\n",
        "### Key Roles:\n",
        "1. **Visualize Pairwise Relationships:** It plots pairwise relationships (scatter plots) between all numerical columns in a DataFrame.\n",
        "2. **Explore Correlations:** Helps in identifying correlations, trends, or patterns between variables.\n",
        "3. **Show Distributions:** Diagonal plots show the distribution of each variable (via histograms or KDEs).\n",
        "4. **Categorical Hue (Optional):** You can use the `hue` parameter to color points based on a categorical variable, making it easier to differentiate data points based on categories.\n",
        "\n",
        "### Example:\n",
        "```python\n",
        "import seaborn as sns\n",
        "import pandas as pd\n",
        "\n",
        "# Load sample dataset\n",
        "df = sns.load_dataset('iris')\n",
        "\n",
        "# Create pairplot\n",
        "sns.pairplot(df, hue='species')\n",
        "```\n",
        "\n",
        "This will create a matrix of scatter plots for all combinations of features in the Iris dataset, colored by the species.\n",
        "\n",
        "### Summary:\n",
        "The **`pairplot()`** function in Seaborn is useful for visualizing pairwise relationships between multiple variables, exploring correlations, and understanding data distributions in a single plot."
      ],
      "metadata": {
        "id": "LHS8Dir5th2g"
      }
    },
    {
      "cell_type": "markdown",
      "source": [
        "12.What is the purpose of the describe() function in Pandas?\n",
        "\n",
        "  ->The **`describe()`** function in **Pandas** provides a quick summary of the **statistics** of the numerical columns in a DataFrame or Series. It helps you quickly understand the central tendency, spread, and shape of the data distribution.\n",
        "\n",
        "### Purpose:\n",
        "- **Summary Statistics:** It calculates key statistics like **count**, **mean**, **standard deviation**, **minimum**, **maximum**, and **quantiles** (25%, 50%, 75%).\n",
        "- **Quick Data Exploration:** It is commonly used for exploring datasets and understanding the distribution of numerical features.\n",
        "- **Identifying Outliers:** By showing the min, max, and quartiles, it helps in identifying potential outliers or unusual values.\n",
        "- **Handling Different Data Types:** It works for both numerical and categorical data types, providing count, unique, top, and freq statistics for categorical columns.\n",
        "\n",
        "### Example:\n",
        "```python\n",
        "import pandas as pd\n",
        "\n",
        "# Sample DataFrame\n",
        "data = {\n",
        "    'Age': [22, 25, 27, 30, 35, 40],\n",
        "    'Salary': [50000, 60000, 55000, 70000, 80000, 75000]\n",
        "}\n",
        "\n",
        "df = pd.DataFrame(data)\n",
        "\n",
        "# Using describe() function\n",
        "print(df.describe())\n",
        "```\n",
        "\n",
        "**Output:**\n",
        "```\n",
        "             Age        Salary\n",
        "count   6.000000      6.000000\n",
        "mean   29.833333  67500.000000\n",
        "std     6.623650   11180.297606\n",
        "min    22.000000  50000.000000\n",
        "25%    24.250000  55000.000000\n",
        "50%    28.500000  62500.000000\n",
        "75%    32.500000  72500.000000\n",
        "max    40.000000  80000.000000\n",
        "```\n",
        "\n",
        "### Summary:\n",
        "The **`describe()`** function in Pandas is useful for quickly obtaining statistical summaries of numerical data, helping you to explore the distribution, central tendencies, and spread of your data."
      ],
      "metadata": {
        "id": "TO0IfC_DtwT0"
      }
    },
    {
      "cell_type": "markdown",
      "source": [
        "13.Why is handling missing data important in Pandas?\n",
        "\n",
        "  ->Handling missing data is important in **Pandas** because missing or **NaN** (Not a Number) values can significantly affect the quality and accuracy of your analysis, leading to incorrect results or conclusions. Here's why it's crucial to address missing data:\n",
        "\n",
        "### 1. **Data Integrity:**\n",
        "   - Missing data can lead to **incomplete or biased analyses**. Many machine learning algorithms and statistical methods cannot handle missing values directly, and ignoring them may cause the model to perform poorly.\n",
        "\n",
        "### 2. **Correct Analysis:**\n",
        "   - **Statistical calculations** (mean, median, sum, etc.) can be skewed by missing values, leading to incorrect insights. For example, the average income in a dataset could be distorted if many income values are missing.\n",
        "\n",
        "### 3. **Improved Model Performance:**\n",
        "   - Machine learning models that ingest datasets with missing values often do not perform well. Handling missing data (by filling, imputing, or removing) can lead to more reliable and accurate models.\n",
        "\n",
        "### 4. **Preprocessing Requirement:**\n",
        "   - Data preprocessing involves handling missing values before performing tasks like visualization, analysis, or training machine learning models. Techniques like **imputation** (filling missing values with a mean, median, or predicted value) or **dropping rows/columns** are common strategies.\n",
        "\n",
        "### 5. **Preventing Errors:**\n",
        "   - Many functions in **Pandas** (like `mean()`, `sum()`, etc.) handle missing values by default, but this can lead to errors or misleading results. It's important to explicitly deal with missing data to avoid unintended behavior.\n",
        "\n",
        "### Common Ways to Handle Missing Data in Pandas:\n",
        "1. **Removing Missing Data:**\n",
        "   - `df.dropna()` removes rows or columns with missing values.\n",
        "   \n",
        "2. **Filling Missing Data:**\n",
        "   - `df.fillna()` fills missing values with a specified value (like a constant or statistical measure, e.g., mean or median).\n",
        "\n",
        "3. **Forward or Backward Filling:**\n",
        "   - `df.fillna(method='ffill')` or `df.fillna(method='bfill')` fills missing values using the next or previous available value.\n",
        "\n",
        "### Example:\n",
        "```python\n",
        "import pandas as pd\n",
        "\n",
        "# Sample DataFrame with missing values\n",
        "data = {'Name': ['Alice', 'Bob', 'Charlie', 'David'],\n",
        "        'Age': [24, None, 22, None],\n",
        "        'Salary': [50000, 60000, None, 70000]}\n",
        "\n",
        "df = pd.DataFrame(data)\n",
        "\n",
        "# Filling missing values with the mean of the column\n",
        "df['Age'] = df['Age'].fillna(df['Age'].mean())\n",
        "df['Salary'] = df['Salary'].fillna(df['Salary'].mean())\n",
        "\n",
        "print(df)\n",
        "```\n",
        "\n",
        "**Output:**\n",
        "```\n",
        "      Name   Age   Salary\n",
        "0    Alice  24.0  50000.0\n",
        "1      Bob  23.0  60000.0\n",
        "2  Charlie  22.0  60000.0\n",
        "3    David  23.0  70000.0\n",
        "```\n",
        "\n",
        "### Summary:\n",
        "Handling missing data is crucial in **Pandas** to maintain the integrity and quality of your data, ensuring accurate analysis, model training, and avoiding errors in calculations."
      ],
      "metadata": {
        "id": "WJiGDo_2uAci"
      }
    },
    {
      "cell_type": "markdown",
      "source": [
        "14.What are the benefits of using Plotly for data visualization?\n",
        "\n",
        "  ->**Plotly** offers several benefits for data visualization in Python, making it a popular choice for creating interactive and visually appealing plots. Here are the key benefits:\n",
        "\n",
        "### 1. **Interactivity:**\n",
        "   - **Plotly** creates interactive plots by default. This includes features like zooming, panning, hovering for additional information, and clickable legends, making it ideal for exploring data dynamically.\n",
        "\n",
        "### 2. **Web-Friendly Visualizations:**\n",
        "   - **Plotly** generates visualizations in HTML format, which makes it easy to embed them in web applications, dashboards, and reports. This is especially useful for sharing interactive plots online.\n",
        "\n",
        "### 3. **Variety of Plot Types:**\n",
        "   - **Plotly** supports a wide range of plot types, from basic charts (scatter, line, bar) to more complex ones like **3D plots**, **contour plots**, **heatmaps**, **geographical maps**, and **network graphs**, allowing you to visualize data in multiple ways.\n",
        "\n",
        "### 4. **Customization:**\n",
        "   - It offers easy customization options for styling, colors, fonts, and axes, giving you control over the appearance of the plot, while maintaining the interactivity.\n",
        "\n",
        "### 5. **Integration with Dash:**\n",
        "   - **Plotly** works seamlessly with **Dash**, a framework for building interactive web applications. This allows you to create full-featured, interactive data dashboards using just Python.\n",
        "\n",
        "### 6. **Integration with Pandas:**\n",
        "   - **Plotly** integrates easily with **Pandas DataFrames**, making it simple to plot data directly from your DataFrame without requiring additional data manipulation.\n",
        "\n",
        "### 7. **High-Quality Aesthetics:**\n",
        "   - **Plotly** creates polished, aesthetically pleasing visualizations by default, offering high-quality graphs and charts without much customization.\n",
        "\n",
        "### 8. **Cross-Platform Compatibility:**\n",
        "   - **Plotly** can be used in various environments such as **Jupyter Notebooks**, **Google Colab**, and standard Python scripts, making it highly versatile for different workflows.\n",
        "\n",
        "### 9. **Built-in Statistical Visualizations:**\n",
        "   - **Plotly** includes support for statistical plots like **box plots**, **violin plots**, **histograms**, and **density plots**, which are useful for analyzing and summarizing data distributions.\n",
        "\n",
        "### Example:\n",
        "```python\n",
        "import plotly.express as px\n",
        "import pandas as pd\n",
        "\n",
        "# Example using a built-in dataset\n",
        "df = px.data.iris()\n",
        "\n",
        "# Creating an interactive scatter plot\n",
        "fig = px.scatter(df, x='sepal_width', y='sepal_length', color='species')\n",
        "fig.show()\n",
        "```\n",
        "\n",
        "### Summary:\n",
        "**Plotly** is beneficial for creating **interactive**, **aesthetically pleasing** visualizations, easily integrating with **Python data tools** like Pandas and Dash, and providing a wide variety of plotting options. It's ideal for creating **dynamic, web-based** visualizations and sharing data insights interactively."
      ],
      "metadata": {
        "id": "Cuzo0i5VuPd4"
      }
    },
    {
      "cell_type": "markdown",
      "source": [
        "15.A How does NumPy handle multidimensional arrays?\n",
        "\n",
        "  ->**NumPy** handles multidimensional arrays through its core object, the **`ndarray`** (N-dimensional array). These arrays can have more than one dimension, which makes NumPy particularly useful for working with matrices, images, and large datasets.\n",
        "\n",
        "### Key Points about Handling Multidimensional Arrays in NumPy:\n",
        "\n",
        "1. **Creation of Multidimensional Arrays:**\n",
        "   - You can create multidimensional arrays using functions like `np.array()` or `np.zeros()`, `np.ones()`, `np.arange()`, etc.\n",
        "   - A **2D array** is essentially a matrix, and a **3D array** can represent data with multiple layers, such as an image stack.\n",
        "\n",
        "2. **Accessing Elements:**\n",
        "   - Elements in multidimensional arrays are accessed using indices for each dimension. For example, for a 2D array, you access elements with `[row, column]`.\n",
        "\n",
        "3. **Shape and Reshaping:**\n",
        "   - You can check the shape of a multidimensional array using the `.shape` attribute, which returns the size of each dimension.\n",
        "   - Use the `.reshape()` method to change the shape of an array without modifying its data.\n",
        "\n",
        "4. **Slicing:**\n",
        "   - NumPy supports advanced slicing of multidimensional arrays. For example, you can select specific rows, columns, or subarrays using slicing techniques.\n",
        "\n",
        "5. **Broadcasting:**\n",
        "   - NumPy can perform element-wise operations on arrays of different shapes through a process called **broadcasting**, which allows arrays of different sizes to be operated on together in an efficient way.\n",
        "\n",
        "6. **Efficient Operations:**\n",
        "   - NumPy arrays are implemented in C, making operations on multidimensional arrays extremely efficient, even for large datasets.\n",
        "\n",
        "### Example of a Multidimensional Array:\n",
        "```python\n",
        "import numpy as np\n",
        "\n",
        "# Create a 2D array (matrix)\n",
        "arr_2d = np.array([[1, 2, 3], [4, 5, 6]])\n",
        "\n",
        "# Accessing an element (row 1, column 2)\n",
        "print(arr_2d[0, 1])  # Output: 2\n",
        "\n",
        "# Checking the shape of the array\n",
        "print(arr_2d.shape)  # Output: (2, 3) -> 2 rows, 3 columns\n",
        "\n",
        "# Reshaping the array\n",
        "arr_reshaped = arr_2d.reshape(3, 2)\n",
        "print(arr_reshaped)\n",
        "```\n",
        "\n",
        "**Output:**\n",
        "```\n",
        "[[1 2]\n",
        " [3 4]\n",
        " [5 6]]\n",
        "```\n",
        "\n",
        "### Summary:\n",
        "NumPy handles multidimensional arrays efficiently by providing tools for creation, manipulation, and operations across multiple dimensions. It enables powerful matrix operations, reshaping, and slicing, making it ideal for complex mathematical and scientific computing."
      ],
      "metadata": {
        "id": "efw02suhu6wa"
      }
    },
    {
      "cell_type": "markdown",
      "source": [
        "16.A What is the role of Bokeh in data visualization?\n",
        "\n",
        "  \n",
        "   ->**Bokeh** is a powerful data visualization library in Python that is particularly well-suited for creating **interactive visualizations** for **web browsers**. It allows users to create complex, visually appealing, and highly interactive plots with simple and concise code. Here's an overview of the role of Bokeh in data visualization:\n",
        "\n",
        "### Key Roles of Bokeh:\n",
        "\n",
        "1. **Interactive Visualizations:**\n",
        "   - Bokeh enables the creation of interactive plots, where users can zoom, pan, hover, and filter data dynamically. This is ideal for exploring data visually and engaging with large datasets in real time.\n",
        "\n",
        "2. **Web-Ready Visualizations:**\n",
        "   - Bokeh generates visualizations as **interactive HTML** elements that can be easily embedded in web applications or shared online. This makes it a great choice for building data dashboards and web-based tools.\n",
        "\n",
        "3. **Customizable Visualizations:**\n",
        "   - Bokeh provides a high level of **customization**, allowing users to define plot elements (e.g., axes, tooltips, colors) and create complex layouts, from basic plots to interactive data dashboards.\n",
        "\n",
        "4. **Support for Real-Time Data:**\n",
        "   - Bokeh is well-suited for real-time data streaming, enabling users to update plots dynamically as new data arrives. This feature is particularly useful for live data visualizations and dashboards.\n",
        "\n",
        "5. **Integration with Other Python Libraries:**\n",
        "   - Bokeh integrates easily with other Python libraries like **Pandas**, **NumPy**, and **SciPy**, making it easy to manipulate and visualize data from these tools.\n",
        "\n",
        "6. **Versatility in Plot Types:**\n",
        "   - Bokeh supports a wide range of plot types, including **line plots**, **scatter plots**, **bar charts**, **heatmaps**, **geospatial maps**, and **3D plots**, making it versatile for various types of data visualization tasks.\n",
        "\n",
        "7. **Compatibility with Jupyter Notebooks:**\n",
        "   - Bokeh integrates well with **Jupyter Notebooks**, allowing users to create and display interactive plots directly within notebooks, making it an excellent choice for data exploration and presentation.\n",
        "\n",
        "### Example of Bokeh:\n",
        "```python\n",
        "from bokeh.plotting import figure, show\n",
        "\n",
        "# Create a simple line plot\n",
        "p = figure(title=\"Simple Line Plot\", x_axis_label='X-Axis', y_axis_label='Y-Axis')\n",
        "\n",
        "# Adding a line to the plot\n",
        "p.line([1, 2, 3, 4, 5], [1, 4, 9, 16, 25], legend_label=\"y = x^2\", line_width=2)\n",
        "\n",
        "# Show the plot\n",
        "show(p)\n",
        "```\n",
        "\n",
        "This will generate an interactive plot that can be zoomed and panned in a web browser.\n",
        "\n"
      ],
      "metadata": {
        "id": "zA9ns8tBvOpa"
      }
    },
    {
      "cell_type": "markdown",
      "source": [
        "17.Explain the difference between apply() and map() in Pandas\n",
        "\n",
        "\n",
        "  ->In **Pandas**, both **`apply()`** and **`map()`** are used to apply functions to data, but they have different uses and behaviors.\n",
        "\n",
        "### **`apply()`**:\n",
        "- **Works on DataFrames and Series**.\n",
        "- **Can apply a function along a specific axis (rows or columns)** of a DataFrame or to each element in a Series.\n",
        "- **More flexible**: You can pass a function that operates on entire rows or columns (for DataFrames), or on individual elements (for Series).\n",
        "- Typically used for more **complex operations**.\n",
        "\n",
        "### Example with `apply()` (Series):\n",
        "```python\n",
        "import pandas as pd\n",
        "df = pd.Series([1, 2, 3, 4])\n",
        "df.apply(lambda x: x**2)  # Squaring each element\n",
        "```\n",
        "\n",
        "### Example with `apply()` (DataFrame):\n",
        "```python\n",
        "df = pd.DataFrame([[1, 2], [3, 4]])\n",
        "df.apply(lambda x: x.sum(), axis=0)  # Summing columns\n",
        "```\n",
        "\n",
        "### **`map()`**:\n",
        "- **Works only on Series**.\n",
        "- Applies a **function element-wise** to each element in a Series.\n",
        "- **Typically used for simple element-wise transformations** like replacing values, mapping values using a dictionary, or applying a function directly to elements.\n",
        "- **Faster** than `apply()` for element-wise operations on Series.\n",
        "\n",
        "### Example with `map()`:\n",
        "```python\n",
        "df = pd.Series([1, 2, 3, 4])\n",
        "df.map(lambda x: x**2)  # Squaring each element\n",
        "```\n",
        "\n",
        "### Key Differences:\n",
        "- **`apply()`** is more **flexible** (can work on both DataFrames and Series and across rows or columns).\n",
        "- **`map()`** is more **restricted** (only works on Series) but is **faster** for simple, element-wise operations.\n",
        "\n",
        "### Summary:\n",
        "- Use **`apply()`** for more complex, row-wise, or column-wise operations on DataFrames or Series.\n",
        "- Use **`map()`** for element-wise transformations on Series, especially for simpler tasks."
      ],
      "metadata": {
        "id": "t0FAosn9vjBU"
      }
    },
    {
      "cell_type": "markdown",
      "source": [
        "18. What are some advanced features of NumPy?\n",
        "\n",
        "  ->NumPy offers several advanced features that make it a powerful library for scientific computing and data analysis in Python. Here are some of the key advanced features:\n",
        "\n",
        "### 1. **Broadcasting:**\n",
        "   - **Broadcasting** allows NumPy to perform element-wise operations on arrays of different shapes. It automatically expands smaller arrays to match the shape of larger arrays when performing operations, making it efficient for working with arrays of different sizes without explicit loops.\n",
        "   \n",
        "   **Example:**\n",
        "   ```python\n",
        "   import numpy as np\n",
        "   arr1 = np.array([1, 2, 3])\n",
        "   arr2 = np.array([10, 20, 30])\n",
        "   result = arr1 + arr2  # Broadcasting allows element-wise addition\n",
        "   print(result)  # Output: [11 22 33]\n",
        "   ```\n",
        "\n",
        "### 2. **Advanced Indexing:**\n",
        "   - NumPy provides powerful ways to index and slice arrays. You can index arrays using **integer arrays**, **boolean arrays**, and **fancy indexing**, which allows for selecting specific elements, rows, or columns based on conditions.\n",
        "   \n",
        "   **Example:**\n",
        "   ```python\n",
        "   arr = np.array([1, 2, 3, 4, 5])\n",
        "   mask = arr > 2  # Boolean indexing\n",
        "   print(arr[mask])  # Output: [3 4 5]\n",
        "   ```\n",
        "\n",
        "### 3. **Vectorization:**\n",
        "   - **Vectorization** refers to performing operations on entire arrays without the need for explicit loops, which leads to faster computations. NumPy performs these operations at a much higher speed because they are implemented in C under the hood.\n",
        "   \n",
        "   **Example:**\n",
        "   ```python\n",
        "   arr = np.array([1, 2, 3, 4])\n",
        "   result = arr * 2  # Efficiently multiplies each element without a loop\n",
        "   print(result)  # Output: [2 4 6 8]\n",
        "   ```\n",
        "\n",
        "### 4. **Linear Algebra:**\n",
        "   - NumPy provides a set of linear algebra functions for matrix operations, such as matrix multiplication (`np.dot`), matrix inverse (`np.linalg.inv`), determinant (`np.linalg.det`), and eigenvalues/eigenvectors.\n",
        "   \n",
        "   **Example:**\n",
        "   ```python\n",
        "   from numpy import linalg as la\n",
        "   matrix = np.array([[1, 2], [3, 4]])\n",
        "   determinant = la.det(matrix)  # Calculate the determinant\n",
        "   print(determinant)  # Output: -2.0\n",
        "   ```\n",
        "\n",
        "### 5. **Random Module:**\n",
        "   - NumPy's **random module** (`np.random`) allows for generating random numbers, random sampling, and even generating random values from different distributions (e.g., normal, binomial, uniform).\n",
        "   \n",
        "   **Example:**\n",
        "   ```python\n",
        "   random_arr = np.random.rand(3, 3)  # Generate a 3x3 matrix of random numbers between 0 and 1\n",
        "   print(random_arr)\n",
        "   ```\n",
        "\n",
        "### 6. **Memory Efficiency with Views and Copies:**\n",
        "   - NumPy arrays allow you to create **views** (which share memory with the original array) instead of copies, making memory usage more efficient when manipulating large arrays.\n",
        "   \n",
        "   **Example:**\n",
        "   ```python\n",
        "   arr = np.array([1, 2, 3, 4])\n",
        "   view_arr = arr[1:3]  # This is a view, not a copy\n",
        "   view_arr[0] = 100  # Modifies arr as well\n",
        "   print(arr)  # Output: [1 100 3 4]\n",
        "   ```\n",
        "\n",
        "### 7. **Broadcasting with Aggregation Functions:**\n",
        "   - NumPy supports **broadcasting with aggregation functions** such as `np.sum()`, `np.mean()`, and `np.median()` that can handle arrays of different shapes.\n",
        "   \n",
        "   **Example:**\n",
        "   ```python\n",
        "   arr1 = np.array([1, 2, 3])\n",
        "   arr2 = np.array([[10, 20, 30], [40, 50, 60]])\n",
        "   result = arr1 + arr2  # Broadcasting adds arr1 to each row of arr2\n",
        "   print(result)\n",
        "   ```\n",
        "\n",
        "### 8. **Universal Functions (ufuncs):**\n",
        "   - **ufuncs** (universal functions) are functions that operate element-wise on arrays. They include basic operations like addition, subtraction, and more complex functions like `np.sin()`, `np.exp()`, etc. These are optimized for fast computation.\n",
        "\n",
        "   **Example:**\n",
        "   ```python\n",
        "   arr = np.array([0, np.pi/2, np.pi])\n",
        "   sine_values = np.sin(arr)\n",
        "   print(sine_values)  # Output: [0. 1. 0.]\n",
        "   ```\n",
        "\n",
        "### 9. **Structured Arrays and Record Arrays:**\n",
        "   - NumPy supports **structured arrays** (arrays with heterogeneous data types) and **record arrays**, which allow for storing multiple data types in a single array. This is useful for working with datasets that include different types of data (e.g., integers, floats, strings).\n",
        "   \n",
        "   **Example:**\n",
        "   ```python\n",
        "   dt = np.dtype([('name', 'S10'), ('age', 'i4')])\n",
        "   data = np.array([('Alice', 25), ('Bob', 30)], dtype=dt)\n",
        "   print(data['name'])  # Output: [b'Alice' b'Bob']\n",
        "   ```\n",
        "\n",
        "### 10. **Efficient File I/O (e.g., `.npz`, `.npy`):**\n",
        "   - NumPy provides efficient methods for **reading and writing data** to disk, including saving arrays in **binary format** (`.npy` for single arrays and `.npz` for multiple arrays), which is much faster than text-based formats like CSV.\n",
        "   \n",
        "   **Example:**\n",
        "   ```python\n",
        "   np.save('array.npy', arr)  # Save array to file\n",
        "   loaded_arr = np.load('array.npy')  # Load array from file\n",
        "   ```\n",
        "\n"
      ],
      "metadata": {
        "id": "3EKyh4Jsvyoj"
      }
    },
    {
      "cell_type": "markdown",
      "source": [
        "19. How does Pandas simplify time series analysis?\n",
        "\n",
        " ->Pandas simplifies **time series analysis** in Python through several powerful features that make working with time-based data intuitive and efficient:\n",
        "\n",
        "### 1. **DateTime Handling**:\n",
        "   - **`pd.to_datetime()`** makes it easy to convert strings or other data types into datetime objects. This allows for proper time-based indexing and operations on data.\n",
        "\n",
        "   **Example:**\n",
        "   ```python\n",
        "   import pandas as pd\n",
        "   dates = pd.to_datetime(['2025-01-01', '2025-01-02'])\n",
        "   ```\n",
        "\n",
        "### 2. **Date Ranges and Frequency Generation**:\n",
        "   - You can create **sequences of dates** with specific frequencies using **`pd.date_range()`**, making it easy to generate time indices for time series data.\n",
        "\n",
        "   **Example:**\n",
        "   ```python\n",
        "   date_range = pd.date_range(start='2025-01-01', periods=5, freq='D')\n",
        "   print(date_range)\n",
        "   ```\n",
        "\n",
        "### 3. **Resampling**:\n",
        "   - With **`.resample()`**, you can aggregate data at different frequencies, such as converting daily data to monthly averages or summing weekly data.\n",
        "\n",
        "   **Example:**\n",
        "   ```python\n",
        "   df = pd.DataFrame({'date': pd.date_range('2025-01-01', periods=6, freq='D'), 'value': [10, 20, 30, 40, 50, 60]})\n",
        "   df.set_index('date', inplace=True)\n",
        "   df_resampled = df.resample('3D').sum()  # Resample data to 3-day frequency\n",
        "   print(df_resampled)\n",
        "   ```\n",
        "\n",
        "### 4. **Time-based Indexing and Slicing**:\n",
        "   - Pandas allows you to **index and slice** data based on dates, which makes it easy to select subsets of data by time range (e.g., selecting data from a specific month or year).\n",
        "\n",
        "   **Example:**\n",
        "   ```python\n",
        "   df['2025-01-01':'2025-01-03']  # Slice data by date range\n",
        "   ```\n",
        "\n",
        "### 5. **Rolling Windows and Moving Averages**:\n",
        "   - You can apply **rolling window functions** (like moving averages) over time series data with `.rolling()`, which is useful for smoothing and trend analysis.\n",
        "\n",
        "   **Example:**\n",
        "   ```python\n",
        "   df['moving_avg'] = df['value'].rolling(window=3).mean()  # 3-day moving average\n",
        "   ```\n",
        "\n",
        "### 6. **Shifting Data**:\n",
        "   - The **`.shift()`** method allows you to shift data forward or backward in time, which is useful for calculating **lag** or **lead** features, or comparing periods.\n",
        "\n",
        "   **Example:**\n",
        "   ```python\n",
        "   df['shifted'] = df['value'].shift(1)  # Shift the values by 1 day\n",
        "   ```\n",
        "\n",
        "### 7. **Handling Missing Data**:\n",
        "   - Time series often have missing values. Pandas provides methods like **`.fillna()`**, **`.ffill()`**, and **`.bfill()`** to handle missing data in time series effectively.\n",
        "\n",
        "### 8. **Plotting**:\n",
        "   - Pandas integrates with **Matplotlib** for easy visualization, enabling quick plotting of time series data with automatic handling of time-based x-axis.\n",
        "\n",
        "   **Example:**\n",
        "   ```python\n",
        "   df['value'].plot(title=\"Time Series Plot\")\n",
        "   ```\n",
        "\n",
        "### 9. **Time Periods and Timedelta**:\n",
        "   - You can easily work with time periods (e.g., months, years) using `pd.Period` and `Timedelta` objects to perform time-based arithmetic.\n",
        "\n"
      ],
      "metadata": {
        "id": "OgK5W-u5wMZ5"
      }
    },
    {
      "cell_type": "markdown",
      "source": [
        "20.What is the role of a pivot table in Pandas?\n",
        "\n",
        "  ->In **Pandas**, a **pivot table** is a powerful tool used for **data aggregation and summarization**. It allows you to reshape data by summarizing it across multiple dimensions (e.g., rows, columns) based on certain **aggregating functions** (e.g., sum, mean, count).\n",
        "\n",
        "### Key Roles of a Pivot Table in Pandas:\n",
        "\n",
        "1. **Data Aggregation**:\n",
        "   - Pivot tables allow you to group data based on one or more columns and apply aggregation functions like sum, mean, count, etc., to summarize data.\n",
        "\n",
        "2. **Reshaping Data**:\n",
        "   - Pivot tables help in **reshaping** data by transforming long-format data (rows) into a more compact, cross-tabulated format with unique index values (rows) and columns.\n",
        "\n",
        "3. **Multidimensional Analysis**:\n",
        "   - They allow for the analysis of multiple variables in a dataset, providing a way to look at the relationship between rows, columns, and values.\n",
        "\n",
        "4. **Flexibility**:\n",
        "   - You can create **pivot tables** with multiple levels of row and column indices, making it easier to analyze data at various granularities.\n",
        "\n",
        "### Example of Pivot Table in Pandas:\n",
        "\n",
        "```python\n",
        "import pandas as pd\n",
        "\n",
        "# Sample DataFrame\n",
        "data = {'Category': ['A', 'B', 'A', 'B', 'A', 'B'],\n",
        "        'Subcategory': ['X', 'X', 'Y', 'Y', 'X', 'Y'],\n",
        "        'Values': [10, 20, 30, 40, 50, 60]}\n",
        "\n",
        "df = pd.DataFrame(data)\n",
        "\n",
        "# Creating a pivot table\n",
        "pivot_table = pd.pivot_table(df, values='Values', index='Category', columns='Subcategory', aggfunc='sum')\n",
        "\n",
        "print(pivot_table)\n",
        "```\n",
        "\n",
        "### Output:\n",
        "```\n",
        "Subcategory   X   Y\n",
        "Category          \n",
        "A            60  30\n",
        "B            20  100\n",
        "```\n",
        "\n",
        "### Explanation:\n",
        "- **`values='Values'`**: The data we want to aggregate.\n",
        "- **`index='Category'`**: Rows are grouped by the **Category** column.\n",
        "- **`columns='Subcategory'`**: Columns are created based on the **Subcategory**.\n",
        "- **`aggfunc='sum'`**: The aggregation function applied to the data (in this case, summing the `Values`).\n",
        "\n",
        "### Benefits of Pivot Tables:\n",
        "- **Data Summarization**: They summarize large datasets into a compact, more understandable form.\n",
        "- **Easy Exploration**: Pivot tables are helpful in exploring relationships and patterns between multiple variables.\n",
        "- **Flexible Grouping**: You can group data at multiple levels using row and column indices.\n",
        " ."
      ],
      "metadata": {
        "id": "JixqaS9YwsOk"
      }
    },
    {
      "cell_type": "markdown",
      "source": [
        "21.Why is NumPy’s array slicing faster than Python’s list slicing?\n",
        "\n",
        "  ->NumPy’s array slicing is faster than Python’s list slicing because of several reasons related to how **NumPy arrays** are implemented and how they operate under the hood compared to Python lists:\n",
        "\n",
        "### 1. **Memory Contiguity:**\n",
        "   - **NumPy arrays** are stored in **contiguous blocks of memory** (i.e., they are stored in a single, continuous chunk in memory). This allows NumPy to perform slicing operations more efficiently by simply referencing portions of this memory block without needing to copy data.\n",
        "   \n",
        "   - In contrast, **Python lists** are **not stored in contiguous memory**. They are essentially arrays of pointers to objects that can be of different types and sizes. This requires additional overhead when slicing because Python must create new lists, copying elements to a new list.\n",
        "\n",
        "### 2. **Fixed Data Type:**\n",
        "   - **NumPy arrays** have a fixed **data type** (dtype), such as `int`, `float`, or `complex`. This fixed type allows NumPy to optimize memory layout and data access patterns. Slicing operations on NumPy arrays simply involve creating new views of the existing array without needing to interpret or convert data types.\n",
        "\n",
        "   - **Python lists**, on the other hand, can hold elements of mixed data types (e.g., integers, strings, etc.), which introduces overhead because Python must check the type of each element and handle each element individually during slicing.\n",
        "\n",
        "### 3. **Vectorization and Efficient Memory Access:**\n",
        "   - NumPy supports **vectorized operations** (operations that apply to entire arrays at once), which are highly optimized and can be processed in parallel by the underlying C and Fortran code. This enables NumPy to slice and process large chunks of data very quickly.\n",
        "   \n",
        "   - In contrast, Python lists are optimized for general-purpose use and are not designed for high-performance numerical operations. List slicing involves more Python-level checks and iterations, which makes it slower.\n",
        "\n",
        "### 4. **Views vs. Copies:**\n",
        "   - **NumPy slicing** creates **views** of the original array whenever possible, meaning no new memory is allocated, and the original array is simply referenced with a new shape or subset. This is very efficient because it avoids data copying.\n",
        "   \n",
        "   - In contrast, **Python list slicing** typically creates **new lists** with copied elements, which involves allocating memory for the new list and copying data from the original list.\n",
        "\n",
        "### 5. **Low-Level Optimizations:**\n",
        "   - **NumPy** is built on top of low-level libraries like **C** and **Fortran**, which are highly optimized for numerical operations and memory management. This gives NumPy an edge in performance over Python's built-in lists for large-scale data operations.\n",
        "\n",
        "### Summary:\n",
        "- **NumPy arrays** are **memory-contiguous** and have a fixed data type, which allows for more efficient slicing and avoids unnecessary data copying, making it faster.\n",
        "- **Python lists** involve more overhead because they are not contiguous in memory, can hold mixed data types, and require additional memory allocations and copying during slicing.\n",
        "\n",
        "As a result, NumPy’s slicing is significantly faster, especially for large datasets."
      ],
      "metadata": {
        "id": "xNhakyxXw_mc"
      }
    },
    {
      "cell_type": "markdown",
      "source": [
        "22.What are some common use cases for Seaborn?\n",
        "\n",
        "  ->Seaborn is a powerful data visualization library in Python that builds on **Matplotlib** and provides a high-level interface for creating attractive and informative statistical graphics. Here are some common use cases for Seaborn:\n",
        "\n",
        "### 1. **Visualizing Distributions**:\n",
        "   - Seaborn makes it easy to visualize the **distribution** of a dataset or a feature. This can be done using various types of plots such as histograms, KDE (Kernel Density Estimation) plots, and rug plots.\n",
        "\n",
        "   **Common plots**:\n",
        "   - `sns.histplot()`: For histograms and KDE plots.\n",
        "   - `sns.kdeplot()`: For KDE plots (smoothed version of histograms).\n",
        "   \n",
        "   **Example**:\n",
        "   ```python\n",
        "   import seaborn as sns\n",
        "   sns.histplot(data=df['column_name'], kde=True)\n",
        "   ```\n",
        "\n",
        "### 2. **Creating Categorical Plots**:\n",
        "   - Seaborn provides several ways to visualize categorical data. These plots are useful for comparing different groups within a dataset.\n",
        "   \n",
        "   **Common plots**:\n",
        "   - `sns.boxplot()`: To show the distribution of a dataset across different categories using quartiles.\n",
        "   - `sns.violinplot()`: A more detailed version of a box plot, showing the distribution and probability density.\n",
        "   - `sns.barplot()`: To show the average of a numerical variable for each category.\n",
        "   - `sns.countplot()`: To count occurrences of categories in a dataset.\n",
        "   \n",
        "   **Example**:\n",
        "   ```python\n",
        "   sns.boxplot(x='category', y='value', data=df)\n",
        "   sns.barplot(x='category', y='value', data=df)\n",
        "   ```\n",
        "\n",
        "### 3. **Visualizing Relationships Between Variables**:\n",
        "   - Seaborn allows you to create plots that help in understanding the relationship between two or more variables.\n",
        "   \n",
        "   **Common plots**:\n",
        "   - `sns.scatterplot()`: To visualize relationships between two numerical variables.\n",
        "   - `sns.lineplot()`: To visualize the trend over time (useful for time series data).\n",
        "   - `sns.regplot()`: To fit and visualize a linear regression model.\n",
        "   \n",
        "   **Example**:\n",
        "   ```python\n",
        "   sns.scatterplot(x='feature1', y='feature2', data=df)\n",
        "   sns.lineplot(x='time', y='value', data=df)\n",
        "   sns.regplot(x='feature1', y='feature2', data=df)\n",
        "   ```\n",
        "\n",
        "### 4. **Pairwise Relationships (Pairplot)**:\n",
        "   - The **pairplot** is one of the most commonly used functions in Seaborn. It creates a matrix of scatter plots to visualize pairwise relationships between multiple variables, along with histograms on the diagonal.\n",
        "\n",
        "   **Common plot**:\n",
        "   - `sns.pairplot()`: To plot pairwise relationships in a dataset.\n",
        "   \n",
        "   **Example**:\n",
        "   ```python\n",
        "   sns.pairplot(df)\n",
        "   ```\n",
        "\n",
        "### 5. **Correlation Heatmaps**:\n",
        "   - Seaborn can create **heatmaps** to visualize the correlation matrix or any other matrix-style data. This is useful for understanding the relationships between different variables, especially in a large dataset.\n",
        "   \n",
        "   **Common plot**:\n",
        "   - `sns.heatmap()`: To visualize a matrix, often used for correlation matrices.\n",
        "   \n",
        "   **Example**:\n",
        "   ```python\n",
        "   corr_matrix = df.corr()\n",
        "   sns.heatmap(corr_matrix, annot=True, cmap='coolwarm')\n",
        "   ```\n",
        "\n",
        "### 6. **Facet Grids**:\n",
        "   - **Facet grids** allow you to create multiple subplots based on some feature in your dataset. It helps in comparing different categories or groups across different axes.\n",
        "   \n",
        "   **Common plot**:\n",
        "   - `sns.FacetGrid()`: To create a grid of subplots for visualizing different categories.\n",
        "   \n",
        "   **Example**:\n",
        "   ```python\n",
        "   g = sns.FacetGrid(df, col='category')\n",
        "   g.map(sns.scatterplot, 'feature1', 'feature2')\n",
        "   ```\n",
        "\n",
        "### 7. **Time Series Analysis**:\n",
        "   - Seaborn also provides tools for plotting time series data, including line plots and smoothing techniques like moving averages.\n",
        "   \n",
        "   **Common plot**:\n",
        "   - `sns.lineplot()`: Ideal for time series visualization.\n",
        "   \n",
        "   **Example**:\n",
        "   ```python\n",
        "   sns.lineplot(x='time', y='value', data=df)\n",
        "   ```\n",
        "\n",
        "### 8. **Heatmaps for Clustering**:\n",
        "   - Seaborn makes it easy to combine **hierarchical clustering** with heatmaps, which is useful for understanding the structure of high-dimensional data.\n",
        "   \n",
        "   **Common plot**:\n",
        "   - `sns.clustermap()`: To visualize hierarchical clustering and data correlations together.\n",
        "\n",
        "   **Example**:\n",
        "   ```python\n",
        "   sns.clustermap(df)\n",
        "   ```\n",
        "\n",
        "### 9. **Visualization with Custom Color Palettes**:\n",
        "   - Seaborn provides a variety of **color palettes** to improve the aesthetics of plots and differentiate categories.\n",
        "\n",
        "   **Example**:\n",
        "   ```python\n",
        "   sns.set_palette('coolwarm')\n",
        "   sns.barplot(x='category', y='value', data=df)\n",
        "   ```\n",
        "\n",
        "### 10. **Statistical Plots**:\n",
        "   - Seaborn has built-in support for plotting **statistical summaries** and regression models, including confidence intervals, with minimal code.\n",
        "\n",
        "   **Common plots**:\n",
        "   - `sns.regplot()`: To add regression lines and confidence intervals to scatter plots.\n",
        "   - `sns.lmplot()`: To plot data and a regression model (used for linear models).\n",
        "\n",
        "   **Example**:\n",
        "   ```python\n",
        "   sns.regplot(x='feature1', y='feature2', data=df)\n",
        "   ```\n",
        "\n",
        "### Summary of Use Cases:\n",
        "- **Distribution visualization** (histograms, KDE)\n",
        "- **Categorical data comparison** (boxplots, barplots)\n",
        "- **Pairwise relationships** (pairplots)\n",
        "- **Heatmaps and correlation** analysis\n",
        "- **Time series analysis** and **trend visualization**\n",
        "- **Facet grids** for segmented analysis\n",
        "- **Clustering** and hierarchical visualization\n",
        "\n",
        "Seaborn is preferred for statistical and exploratory data analysis due to its ease of use, aesthetic quality, and integration with **Matplotlib**. It simplifies complex visualizations while allowing customization and better insights into the data."
      ],
      "metadata": {
        "id": "HAZMd2aRxPTb"
      }
    },
    {
      "cell_type": "markdown",
      "source": [
        "##Practical"
      ],
      "metadata": {
        "id": "aCUixnwaxdX7"
      }
    },
    {
      "cell_type": "code",
      "source": [
        "#How do you create a 2D NumPy array and calculate the sum of each row?\n",
        " import numpy as np\n",
        "\n",
        "array_2d = np.array([[1, 2, 3],\n",
        "                     [4, 5, 6],\n",
        "                     [7, 8, 9]])\n",
        "\n",
        "row_sums = np.sum(array_2d, axis=1)\n",
        "\n",
        "print(\"Sum of each row:\", row_sums)\n"
      ],
      "metadata": {
        "colab": {
          "base_uri": "https://localhost:8080/",
          "height": 106
        },
        "id": "Fh3QdqKQxnIm",
        "outputId": "9d65d566-e290-4252-927b-903c1d7ae1f3"
      },
      "execution_count": null,
      "outputs": [
        {
          "output_type": "error",
          "ename": "IndentationError",
          "evalue": "unexpected indent (<ipython-input-26-93fae54c7cbc>, line 2)",
          "traceback": [
            "\u001b[0;36m  File \u001b[0;32m\"<ipython-input-26-93fae54c7cbc>\"\u001b[0;36m, line \u001b[0;32m2\u001b[0m\n\u001b[0;31m    import numpy as np\u001b[0m\n\u001b[0m    ^\u001b[0m\n\u001b[0;31mIndentationError\u001b[0m\u001b[0;31m:\u001b[0m unexpected indent\n"
          ]
        }
      ]
    },
    {
      "cell_type": "code",
      "source": [
        "#Write a Pandas script to find the mean of a specific column in a DataFrame.\n",
        "#Here's a simple Pandas script to find the mean of a specific column in a DataFrame:\n",
        "import pandas as pd\n",
        "data = {'Name': ['Alice', 'Bob', 'Charlie', 'David', 'Eve'],\n",
        "        'Age': [23, 34, 29, 40, 22],\n",
        "        'Salary': [50000, 60000, 55000, 70000, 48000]}\n",
        "\n",
        "df = pd.DataFrame(data)\n",
        "mean_age = df['Age'].mean()\n",
        "\n",
        "print(\"Mean of 'Age' column:\", mean_age)\n"
      ],
      "metadata": {
        "colab": {
          "base_uri": "https://localhost:8080/"
        },
        "id": "A_hszj_7yw5O",
        "outputId": "33248393-b065-41c1-c47b-481afc762a0d"
      },
      "execution_count": null,
      "outputs": [
        {
          "output_type": "stream",
          "name": "stdout",
          "text": [
            "Mean of 'Age' column: 29.6\n"
          ]
        }
      ]
    },
    {
      "cell_type": "code",
      "source": [
        "#A Create a scatter plot using Matplotlib.\n",
        "import matplotlib.pyplot as plt\n",
        "\n",
        "x = [1, 2, 3, 4, 5]\n",
        "y = [10, 20, 25, 30, 40]\n",
        "plt.scatter(x, y)\n",
        "\n",
        "plt.title('Sample Scatter Plot')\n",
        "plt.xlabel('X-axis')\n",
        "plt.ylabel('Y-axis')\n",
        "plt.show()\n"
      ],
      "metadata": {
        "colab": {
          "base_uri": "https://localhost:8080/",
          "height": 472
        },
        "id": "ElGn8jKGzUac",
        "outputId": "4b4e26d2-c2d6-46d4-eb57-837b4f53a651"
      },
      "execution_count": null,
      "outputs": [
        {
          "output_type": "display_data",
          "data": {
            "text/plain": [
              "<Figure size 640x480 with 1 Axes>"
            ],
            "image/png": "[encoded data removed]"
          },
          "metadata": {}
        }
      ]
    },
    {
      "cell_type": "code",
      "source": [
        "# How do you calculate the correlation matrix using Seaborn and visualize it with a heatmap\n",
        "import pandas as pd\n",
        "import seaborn as sns\n",
        "import matplotlib.pyplot as plt\n",
        "\n",
        "data = {'A': [1, 2, 3, 4, 5],\n",
        "        'B': [5, 4, 3, 2, 1],\n",
        "        'C': [2, 3, 4, 5, 6],\n",
        "        'D': [6, 7, 8, 9, 10]}\n",
        "\n",
        "df = pd.DataFrame(data)\n",
        "\n",
        "corr_matrix = df.corr()\n",
        "\n",
        "plt.figure(figsize=(8, 6))\n",
        "sns.heatmap(corr_matrix, annot=True, cmap='coolwarm', fmt='.2f', linewidths=0.5)\n",
        "\n",
        "plt.title('Correlation Matrix Heatmap')\n",
        "plt.show()\n"
      ],
      "metadata": {
        "colab": {
          "base_uri": "https://localhost:8080/",
          "height": 545
        },
        "id": "BCSz8omzzu7c",
        "outputId": "f9699d04-cd5d-47fe-d1b5-5aee99912f28"
      },
      "execution_count": null,
      "outputs": [
        {
          "output_type": "display_data",
          "data": {
            "text/plain": [
              "<Figure size 800x600 with 2 Axes>"
            ],
            "image/png": "[encoded data removed]"
          },
          "metadata": {}
        }
      ]
    },
    {
      "cell_type": "code",
      "source": [
        "#Generate a bar plot using Plotly.\n",
        "import plotly.express as px\n",
        "\n",
        "# Sample data\n",
        "data = {'Category': ['A', 'B', 'C', 'D', 'E'],\n",
        "        'Values': [10, 15, 30, 25, 40]}\n",
        "\n",
        "# Create a DataFrame\n",
        "import pandas as pd\n",
        "df = pd.DataFrame(data)\n",
        "\n",
        "# Generate the bar plot\n",
        "fig = px.bar(df, x='Category', y='Values', title='Bar Plot Example')\n",
        "\n",
        "# Display the plot\n",
        "fig.show()\n"
      ],
      "metadata": {
        "colab": {
          "base_uri": "https://localhost:8080/",
          "height": 542
        },
        "id": "TH_ZxV5X0KyZ",
        "outputId": "7d5f7708-55bb-4067-df90-04cb5bc649b9"
      },
      "execution_count": null,
      "outputs": [
        {
          "output_type": "display_data",
          "data": {
            "text/html": [
              "<html>\n",
              "<head><meta charset=\"utf-8\" /></head>\n",
              "<body>\n",
              "    <div>            <script src=\"https://cdnjs.cloudflare.com/ajax/libs/mathjax/2.7.5/MathJax.js?config=TeX-AMS-MML_SVG\"></script><script type=\"text/javascript\">if (window.MathJax && window.MathJax.Hub && window.MathJax.Hub.Config) {window.MathJax.Hub.Config({SVG: {font: \"STIX-Web\"}});}</script>                <script type=\"text/javascript\">window.PlotlyConfig = {MathJaxConfig: 'local'};</script>\n",
              "        <script charset=\"utf-8\" src=\"https://cdn.plot.ly/plotly-2.35.2.min.js\"></script>                <div id=\"cde684dd-156a-4e42-9ebd-ab54e17a4453\" class=\"plotly-graph-div\" style=\"height:525px; width:100%;\"></div>            <script type=\"text/javascript\">                                    window.PLOTLYENV=window.PLOTLYENV || {};                                    if (document.getElementById(\"cde684dd-156a-4e42-9ebd-ab54e17a4453\")) {                    Plotly.newPlot(                        \"cde684dd-156a-4e42-9ebd-ab54e17a4453\",                        [{\"alignmentgroup\":\"True\",\"hovertemplate\":\"Category=%{x}\\u003cbr\\u003eValues=%{y}\\u003cextra\\u003e\\u003c\\u002fextra\\u003e\",\"legendgroup\":\"\",\"marker\":{\"color\":\"#636efa\",\"pattern\":{\"shape\":\"\"}},\"name\":\"\",\"offsetgroup\":\"\",\"orientation\":\"v\",\"showlegend\":false,\"textposition\":\"auto\",\"x\":[\"A\",\"B\",\"C\",\"D\",\"E\"],\"xaxis\":\"x\",\"y\":[10,15,30,25,40],\"yaxis\":\"y\",\"type\":\"bar\"}],                        {\"template\":{\"data\":{\"histogram2dcontour\":[{\"type\":\"histogram2dcontour\",\"colorbar\":{\"outlinewidth\":0,\"ticks\":\"\"},\"colorscale\":[[0.0,\"#0d0887\"],[0.1111111111111111,\"#46039f\"],[0.2222222222222222,\"#7201a8\"],[0.3333333333333333,\"#9c179e\"],[0.4444444444444444,\"#bd3786\"],[0.5555555555555556,\"#d8576b\"],[0.6666666666666666,\"#ed7953\"],[0.7777777777777778,\"#fb9f3a\"],[0.8888888888888888,\"#fdca26\"],[1.0,\"#f0f921\"]]}],\"choropleth\":[{\"type\":\"choropleth\",\"colorbar\":{\"outlinewidth\":0,\"ticks\":\"\"}}],\"histogram2d\":[{\"type\":\"histogram2d\",\"colorbar\":{\"outlinewidth\":0,\"ticks\":\"\"},\"colorscale\":[[0.0,\"#0d0887\"],[0.1111111111111111,\"#46039f\"],[0.2222222222222222,\"#7201a8\"],[0.3333333333333333,\"#9c179e\"],[0.4444444444444444,\"#bd3786\"],[0.5555555555555556,\"#d8576b\"],[0.6666666666666666,\"#ed7953\"],[0.7777777777777778,\"#fb9f3a\"],[0.8888888888888888,\"#fdca26\"],[1.0,\"#f0f921\"]]}],\"heatmap\":[{\"type\":\"heatmap\",\"colorbar\":{\"outlinewidth\":0,\"ticks\":\"\"},\"colorscale\":[[0.0,\"#0d0887\"],[0.1111111111111111,\"#46039f\"],[0.2222222222222222,\"#7201a8\"],[0.3333333333333333,\"#9c179e\"],[0.4444444444444444,\"#bd3786\"],[0.5555555555555556,\"#d8576b\"],[0.6666666666666666,\"#ed7953\"],[0.7777777777777778,\"#fb9f3a\"],[0.8888888888888888,\"#fdca26\"],[1.0,\"#f0f921\"]]}],\"heatmapgl\":[{\"type\":\"heatmapgl\",\"colorbar\":{\"outlinewidth\":0,\"ticks\":\"\"},\"colorscale\":[[0.0,\"#0d0887\"],[0.1111111111111111,\"#46039f\"],[0.2222222222222222,\"#7201a8\"],[0.3333333333333333,\"#9c179e\"],[0.4444444444444444,\"#bd3786\"],[0.5555555555555556,\"#d8576b\"],[0.6666666666666666,\"#ed7953\"],[0.7777777777777778,\"#fb9f3a\"],[0.8888888888888888,\"#fdca26\"],[1.0,\"#f0f921\"]]}],\"contourcarpet\":[{\"type\":\"contourcarpet\",\"colorbar\":{\"outlinewidth\":0,\"ticks\":\"\"}}],\"contour\":[{\"type\":\"contour\",\"colorbar\":{\"outlinewidth\":0,\"ticks\":\"\"},\"colorscale\":[[0.0,\"#0d0887\"],[0.1111111111111111,\"#46039f\"],[0.2222222222222222,\"#7201a8\"],[0.3333333333333333,\"#9c179e\"],[0.4444444444444444,\"#bd3786\"],[0.5555555555555556,\"#d8576b\"],[0.6666666666666666,\"#ed7953\"],[0.7777777777777778,\"#fb9f3a\"],[0.8888888888888888,\"#fdca26\"],[1.0,\"#f0f921\"]]}],\"surface\":[{\"type\":\"surface\",\"colorbar\":{\"outlinewidth\":0,\"ticks\":\"\"},\"colorscale\":[[0.0,\"#0d0887\"],[0.1111111111111111,\"#46039f\"],[0.2222222222222222,\"#7201a8\"],[0.3333333333333333,\"#9c179e\"],[0.4444444444444444,\"#bd3786\"],[0.5555555555555556,\"#d8576b\"],[0.6666666666666666,\"#ed7953\"],[0.7777777777777778,\"#fb9f3a\"],[0.8888888888888888,\"#fdca26\"],[1.0,\"#f0f921\"]]}],\"mesh3d\":[{\"type\":\"mesh3d\",\"colorbar\":{\"outlinewidth\":0,\"ticks\":\"\"}}],\"scatter\":[{\"fillpattern\":{\"fillmode\":\"overlay\",\"size\":10,\"solidity\":0.2},\"type\":\"scatter\"}],\"parcoords\":[{\"type\":\"parcoords\",\"line\":{\"colorbar\":{\"outlinewidth\":0,\"ticks\":\"\"}}}],\"scatterpolargl\":[{\"type\":\"scatterpolargl\",\"marker\":{\"colorbar\":{\"outlinewidth\":0,\"ticks\":\"\"}}}],\"bar\":[{\"error_x\":{\"color\":\"#2a3f5f\"},\"error_y\":{\"color\":\"#2a3f5f\"},\"marker\":{\"line\":{\"color\":\"#E5ECF6\",\"width\":0.5},\"pattern\":{\"fillmode\":\"overlay\",\"size\":10,\"solidity\":0.2}},\"type\":\"bar\"}],\"scattergeo\":[{\"type\":\"scattergeo\",\"marker\":{\"colorbar\":{\"outlinewidth\":0,\"ticks\":\"\"}}}],\"scatterpolar\":[{\"type\":\"scatterpolar\",\"marker\":{\"colorbar\":{\"outlinewidth\":0,\"ticks\":\"\"}}}],\"histogram\":[{\"marker\":{\"pattern\":{\"fillmode\":\"overlay\",\"size\":10,\"solidity\":0.2}},\"type\":\"histogram\"}],\"scattergl\":[{\"type\":\"scattergl\",\"marker\":{\"colorbar\":{\"outlinewidth\":0,\"ticks\":\"\"}}}],\"scatter3d\":[{\"type\":\"scatter3d\",\"line\":{\"colorbar\":{\"outlinewidth\":0,\"ticks\":\"\"}},\"marker\":{\"colorbar\":{\"outlinewidth\":0,\"ticks\":\"\"}}}],\"scattermapbox\":[{\"type\":\"scattermapbox\",\"marker\":{\"colorbar\":{\"outlinewidth\":0,\"ticks\":\"\"}}}],\"scatterternary\":[{\"type\":\"scatterternary\",\"marker\":{\"colorbar\":{\"outlinewidth\":0,\"ticks\":\"\"}}}],\"scattercarpet\":[{\"type\":\"scattercarpet\",\"marker\":{\"colorbar\":{\"outlinewidth\":0,\"ticks\":\"\"}}}],\"carpet\":[{\"aaxis\":{\"endlinecolor\":\"#2a3f5f\",\"gridcolor\":\"white\",\"linecolor\":\"white\",\"minorgridcolor\":\"white\",\"startlinecolor\":\"#2a3f5f\"},\"baxis\":{\"endlinecolor\":\"#2a3f5f\",\"gridcolor\":\"white\",\"linecolor\":\"white\",\"minorgridcolor\":\"white\",\"startlinecolor\":\"#2a3f5f\"},\"type\":\"carpet\"}],\"table\":[{\"cells\":{\"fill\":{\"color\":\"#EBF0F8\"},\"line\":{\"color\":\"white\"}},\"header\":{\"fill\":{\"color\":\"#C8D4E3\"},\"line\":{\"color\":\"white\"}},\"type\":\"table\"}],\"barpolar\":[{\"marker\":{\"line\":{\"color\":\"#E5ECF6\",\"width\":0.5},\"pattern\":{\"fillmode\":\"overlay\",\"size\":10,\"solidity\":0.2}},\"type\":\"barpolar\"}],\"pie\":[{\"automargin\":true,\"type\":\"pie\"}]},\"layout\":{\"autotypenumbers\":\"strict\",\"colorway\":[\"#636efa\",\"#EF553B\",\"#00cc96\",\"#ab63fa\",\"#FFA15A\",\"#19d3f3\",\"#FF6692\",\"#B6E880\",\"#FF97FF\",\"#FECB52\"],\"font\":{\"color\":\"#2a3f5f\"},\"hovermode\":\"closest\",\"hoverlabel\":{\"align\":\"left\"},\"paper_bgcolor\":\"white\",\"plot_bgcolor\":\"#E5ECF6\",\"polar\":{\"bgcolor\":\"#E5ECF6\",\"angularaxis\":{\"gridcolor\":\"white\",\"linecolor\":\"white\",\"ticks\":\"\"},\"radialaxis\":{\"gridcolor\":\"white\",\"linecolor\":\"white\",\"ticks\":\"\"}},\"ternary\":{\"bgcolor\":\"#E5ECF6\",\"aaxis\":{\"gridcolor\":\"white\",\"linecolor\":\"white\",\"ticks\":\"\"},\"baxis\":{\"gridcolor\":\"white\",\"linecolor\":\"white\",\"ticks\":\"\"},\"caxis\":{\"gridcolor\":\"white\",\"linecolor\":\"white\",\"ticks\":\"\"}},\"coloraxis\":{\"colorbar\":{\"outlinewidth\":0,\"ticks\":\"\"}},\"colorscale\":{\"sequential\":[[0.0,\"#0d0887\"],[0.1111111111111111,\"#46039f\"],[0.2222222222222222,\"#7201a8\"],[0.3333333333333333,\"#9c179e\"],[0.4444444444444444,\"#bd3786\"],[0.5555555555555556,\"#d8576b\"],[0.6666666666666666,\"#ed7953\"],[0.7777777777777778,\"#fb9f3a\"],[0.8888888888888888,\"#fdca26\"],[1.0,\"#f0f921\"]],\"sequentialminus\":[[0.0,\"#0d0887\"],[0.1111111111111111,\"#46039f\"],[0.2222222222222222,\"#7201a8\"],[0.3333333333333333,\"#9c179e\"],[0.4444444444444444,\"#bd3786\"],[0.5555555555555556,\"#d8576b\"],[0.6666666666666666,\"#ed7953\"],[0.7777777777777778,\"#fb9f3a\"],[0.8888888888888888,\"#fdca26\"],[1.0,\"#f0f921\"]],\"diverging\":[[0,\"#8e0152\"],[0.1,\"#c51b7d\"],[0.2,\"#de77ae\"],[0.3,\"#f1b6da\"],[0.4,\"#fde0ef\"],[0.5,\"#f7f7f7\"],[0.6,\"#e6f5d0\"],[0.7,\"#b8e186\"],[0.8,\"#7fbc41\"],[0.9,\"#4d9221\"],[1,\"#276419\"]]},\"xaxis\":{\"gridcolor\":\"white\",\"linecolor\":\"white\",\"ticks\":\"\",\"title\":{\"standoff\":15},\"zerolinecolor\":\"white\",\"automargin\":true,\"zerolinewidth\":2},\"yaxis\":{\"gridcolor\":\"white\",\"linecolor\":\"white\",\"ticks\":\"\",\"title\":{\"standoff\":15},\"zerolinecolor\":\"white\",\"automargin\":true,\"zerolinewidth\":2},\"scene\":{\"xaxis\":{\"backgroundcolor\":\"#E5ECF6\",\"gridcolor\":\"white\",\"linecolor\":\"white\",\"showbackground\":true,\"ticks\":\"\",\"zerolinecolor\":\"white\",\"gridwidth\":2},\"yaxis\":{\"backgroundcolor\":\"#E5ECF6\",\"gridcolor\":\"white\",\"linecolor\":\"white\",\"showbackground\":true,\"ticks\":\"\",\"zerolinecolor\":\"white\",\"gridwidth\":2},\"zaxis\":{\"backgroundcolor\":\"#E5ECF6\",\"gridcolor\":\"white\",\"linecolor\":\"white\",\"showbackground\":true,\"ticks\":\"\",\"zerolinecolor\":\"white\",\"gridwidth\":2}},\"shapedefaults\":{\"line\":{\"color\":\"#2a3f5f\"}},\"annotationdefaults\":{\"arrowcolor\":\"#2a3f5f\",\"arrowhead\":0,\"arrowwidth\":1},\"geo\":{\"bgcolor\":\"white\",\"landcolor\":\"#E5ECF6\",\"subunitcolor\":\"white\",\"showland\":true,\"showlakes\":true,\"lakecolor\":\"white\"},\"title\":{\"x\":0.05},\"mapbox\":{\"style\":\"light\"}}},\"xaxis\":{\"anchor\":\"y\",\"domain\":[0.0,1.0],\"title\":{\"text\":\"Category\"}},\"yaxis\":{\"anchor\":\"x\",\"domain\":[0.0,1.0],\"title\":{\"text\":\"Values\"}},\"legend\":{\"tracegroupgap\":0},\"title\":{\"text\":\"Bar Plot Example\"},\"barmode\":\"relative\"},                        {\"responsive\": true}                    ).then(function(){\n",
              "                            \n",
              "var gd = document.getElementById('cde684dd-156a-4e42-9ebd-ab54e17a4453');\n",
              "var x = new MutationObserver(function (mutations, observer) {{\n",
              "        var display = window.getComputedStyle(gd).display;\n",
              "        if (!display || display === 'none') {{\n",
              "            console.log([gd, 'removed!']);\n",
              "            Plotly.purge(gd);\n",
              "            observer.disconnect();\n",
              "        }}\n",
              "}});\n",
              "\n",
              "// Listen for the removal of the full notebook cells\n",
              "var notebookContainer = gd.closest('#notebook-container');\n",
              "if (notebookContainer) {{\n",
              "    x.observe(notebookContainer, {childList: true});\n",
              "}}\n",
              "\n",
              "// Listen for the clearing of the current output cell\n",
              "var outputEl = gd.closest('.output');\n",
              "if (outputEl) {{\n",
              "    x.observe(outputEl, {childList: true});\n",
              "}}\n",
              "\n",
              "                        })                };                            </script>        </div>\n",
              "</body>\n",
              "</html>"
            ]
          },
          "metadata": {}
        }
      ]
    },
    {
      "cell_type": "code",
      "source": [
        "#Create a DataFrame and add a new column based on an existing column\n",
        "import pandas as pd\n",
        "\n",
        "data = {'Name': ['Alice', 'Bob', 'Charlie', 'David', 'Eve'],\n",
        "        'Age': [23, 34, 29, 40, 22],\n",
        "        'Salary': [50000, 60000, 55000, 70000, 48000]}\n",
        "\n",
        "df = pd.DataFrame(data)\n",
        "\n",
        "df['Age_in_10_years'] = df['Age'] + 10\n",
        "\n",
        "print(df)\n"
      ],
      "metadata": {
        "colab": {
          "base_uri": "https://localhost:8080/"
        },
        "id": "TJPnORdI0loN",
        "outputId": "a0ae4433-de08-42b3-8d9b-ccde0b220d01"
      },
      "execution_count": null,
      "outputs": [
        {
          "output_type": "stream",
          "name": "stdout",
          "text": [
            "      Name  Age  Salary  Age_in_10_years\n",
            "0    Alice   23   50000               33\n",
            "1      Bob   34   60000               44\n",
            "2  Charlie   29   55000               39\n",
            "3    David   40   70000               50\n",
            "4      Eve   22   48000               32\n"
          ]
        }
      ]
    },
    {
      "cell_type": "code",
      "source": [
        "#Write a program to perform element-wise multiplication of two NumPy arrays\n",
        "import numpy as np\n",
        "\n",
        "array1 = np.array([1, 2, 3, 4])\n",
        "array2 = np.array([5, 6, 7, 8])\n",
        "\n",
        "result = array1 * array2\n",
        "\n",
        "print(\"Element-wise multiplication result:\", result)\n"
      ],
      "metadata": {
        "colab": {
          "base_uri": "https://localhost:8080/"
        },
        "id": "HiZWu1S6026U",
        "outputId": "75f50988-9e1f-4126-98e8-93e747409a40"
      },
      "execution_count": null,
      "outputs": [
        {
          "output_type": "stream",
          "name": "stdout",
          "text": [
            "Element-wise multiplication result: [ 5 12 21 32]\n"
          ]
        }
      ]
    },
    {
      "cell_type": "code",
      "source": [
        "#Create a line plot with multiple lines using Matplotlib\n",
        "import matplotlib.pyplot as plt\n",
        "\n",
        "x = [1, 2, 3, 4, 5]\n",
        "y1 = [1, 4, 9, 16, 25]\n",
        "y2 = [25, 20, 15, 10, 5]\n",
        "\n",
        "plt.plot(x, y1, label='y = x^2', color='blue')\n",
        "plt.plot(x, y2, label='y = 30 - x^2', color='red')\n",
        "\n",
        "plt.title('Multiple Line Plot')\n",
        "plt.xlabel('X-axis')\n",
        "plt.ylabel('Y-axis')\n",
        "\n",
        "plt.legend()\n",
        "\n",
        "plt.show()\n"
      ],
      "metadata": {
        "colab": {
          "base_uri": "https://localhost:8080/",
          "height": 472
        },
        "id": "3iA952H81E25",
        "outputId": "95b9a5f4-a62b-4cb6-c870-de533f4995c7"
      },
      "execution_count": null,
      "outputs": [
        {
          "output_type": "display_data",
          "data": {
            "text/plain": [
              "<Figure size 640x480 with 1 Axes>"
            ],
            "image/png": "[encoded data removed]"
          },
          "metadata": {}
        }
      ]
    },
    {
      "cell_type": "code",
      "source": [
        "#Generate a Pandas DataFrame and filter rows where a column value is greater than a threshold\n",
        "import pandas as pd\n",
        "\n",
        "data = {'Name': ['Alice', 'Bob', 'Charlie', 'David', 'Eve'],\n",
        "        'Age': [23, 34, 29, 40, 22],\n",
        "        'Salary': [50000, 60000, 55000, 70000, 48000]}\n",
        "\n",
        "df = pd.DataFrame(data)\n",
        "\n",
        "threshold = 30\n",
        "filtered_df = df[df['Age'] > threshold]\n",
        "\n",
        "print(filtered_df)\n"
      ],
      "metadata": {
        "colab": {
          "base_uri": "https://localhost:8080/"
        },
        "id": "pAToPoOu1UVg",
        "outputId": "005afc55-2b9b-439b-e0b3-1785a7b30887"
      },
      "execution_count": null,
      "outputs": [
        {
          "output_type": "stream",
          "name": "stdout",
          "text": [
            "    Name  Age  Salary\n",
            "1    Bob   34   60000\n",
            "3  David   40   70000\n"
          ]
        }
      ]
    },
    {
      "cell_type": "code",
      "source": [
        "#Create a histogram using Seaborn to visualize a distribution.\n",
        "import seaborn as sns\n",
        "import matplotlib.pyplot as plt\n",
        "\n",
        "data = [12, 15, 13, 10, 18, 20, 17, 16, 19, 21, 19, 22, 23, 24, 25, 22, 26, 27, 28, 29]\n",
        "\n",
        "sns.histplot(data, kde=True, color='blue', bins=10)\n",
        "\n",
        "plt.title('Histogram with Seaborn')\n",
        "plt.xlabel('Value')\n",
        "plt.ylabel('Frequency')\n",
        "\n",
        "plt.show()\n"
      ],
      "metadata": {
        "colab": {
          "base_uri": "https://localhost:8080/",
          "height": 472
        },
        "id": "C3-DikJ11jSP",
        "outputId": "5ec0e8b6-0152-40f9-8856-5dc53e25a5e0"
      },
      "execution_count": null,
      "outputs": [
        {
          "output_type": "display_data",
          "data": {
            "text/plain": [
              "<Figure size 640x480 with 1 Axes>"
            ],
            "image/png": "[encoded data removed]"
          },
          "metadata": {}
        }
      ]
    },
    {
      "cell_type": "code",
      "source": [
        "# Perform matrix multiplication using NumPy\n",
        "import numpy as np\n",
        "\n",
        "# Define two matrices\n",
        "matrix_a = np.array([[1, 2],\n",
        "                     [3, 4]])\n",
        "\n",
        "matrix_b = np.array([[5, 6],\n",
        "                     [7, 8]])\n",
        "\n",
        "# Perform matrix multiplication using np.dot() function\n",
        "result = np.dot(matrix_a, matrix_b)\n",
        "\n",
        "# Alternatively, you can use the @ operator (Python 3.5+)\n",
        "# result = matrix_a @ matrix_b\n",
        "\n",
        "# Output the result\n",
        "print(\"Matrix multiplication result:\")\n",
        "print(result)\n"
      ],
      "metadata": {
        "colab": {
          "base_uri": "https://localhost:8080/"
        },
        "id": "3Jm3BoHO14Js",
        "outputId": "f4d4433b-8576-49a2-e2df-f6d2eb0228ce"
      },
      "execution_count": null,
      "outputs": [
        {
          "output_type": "stream",
          "name": "stdout",
          "text": [
            "Matrix multiplication result:\n",
            "[[19 22]\n",
            " [43 50]]\n"
          ]
        }
      ]
    },
    {
      "cell_type": "code",
      "source": [
        "# Use Pandas to load a CSV file and display its first 5 rows\n",
        " df = pd.read_csv(r'C:\\Users\\YourName\\Documents\\your_file.csv')  # Windows\n",
        "df = pd.read_csv('/home/user/your_file.csv')  # Linux/Ma\n"
      ],
      "metadata": {
        "colab": {
          "base_uri": "https://localhost:8080/",
          "height": 106
        },
        "id": "jQlCB2T22HpD",
        "outputId": "1053630f-49d4-44aa-d7df-5800d59034c6"
      },
      "execution_count": null,
      "outputs": [
        {
          "output_type": "error",
          "ename": "IndentationError",
          "evalue": "unexpected indent (<ipython-input-27-2d36abd44cf0>, line 2)",
          "traceback": [
            "\u001b[0;36m  File \u001b[0;32m\"<ipython-input-27-2d36abd44cf0>\"\u001b[0;36m, line \u001b[0;32m2\u001b[0m\n\u001b[0;31m    df = pd.read_csv(r'C:\\Users\\YourName\\Documents\\your_file.csv')  # Windows\u001b[0m\n\u001b[0m    ^\u001b[0m\n\u001b[0;31mIndentationError\u001b[0m\u001b[0;31m:\u001b[0m unexpected indent\n"
          ]
        }
      ]
    },
    {
      "cell_type": "code",
      "source": [
        "# Create a 3D scatter plot using Plotly\n",
        "import plotly.express as px\n",
        "import pandas as pd\n",
        "\n",
        "# Sample data\n",
        "data = {\n",
        "    'x': [1, 2, 3, 4, 5],\n",
        "    'y': [10, 11, 12, 13, 14],\n",
        "    'z': [100, 200, 300, 400, 500],\n",
        "    'label': ['A', 'B', 'C', 'D', 'E']\n",
        "}\n",
        "\n",
        "# Create a DataFrame\n",
        "df = pd.DataFrame(data)\n",
        "\n",
        "# Create the 3D scatter plot\n",
        "fig = px.scatter_3d(df, x='x', y='y', z='z', color='label', title=\"3D Scatter Plot\")\n",
        "\n",
        "# Show the plot\n",
        "fig.show()\n"
      ],
      "metadata": {
        "colab": {
          "base_uri": "https://localhost:8080/",
          "height": 542
        },
        "id": "rwPeLHGT3LvD",
        "outputId": "6c7f759a-a536-40fb-bc3b-03daf01cf130"
      },
      "execution_count": null,
      "outputs": [
        {
          "output_type": "display_data",
          "data": {
            "text/html": [
              "<html>\n",
              "<head><meta charset=\"utf-8\" /></head>\n",
              "<body>\n",
              "    <div>            <script src=\"https://cdnjs.cloudflare.com/ajax/libs/mathjax/2.7.5/MathJax.js?config=TeX-AMS-MML_SVG\"></script><script type=\"text/javascript\">if (window.MathJax && window.MathJax.Hub && window.MathJax.Hub.Config) {window.MathJax.Hub.Config({SVG: {font: \"STIX-Web\"}});}</script>                <script type=\"text/javascript\">window.PlotlyConfig = {MathJaxConfig: 'local'};</script>\n",
              "        <script charset=\"utf-8\" src=\"https://cdn.plot.ly/plotly-2.35.2.min.js\"></script>                <div id=\"44d90b9d-184f-4aab-aa44-6011ef9600ca\" class=\"plotly-graph-div\" style=\"height:525px; width:100%;\"></div>            <script type=\"text/javascript\">                                    window.PLOTLYENV=window.PLOTLYENV || {};                                    if (document.getElementById(\"44d90b9d-184f-4aab-aa44-6011ef9600ca\")) {                    Plotly.newPlot(                        \"44d90b9d-184f-4aab-aa44-6011ef9600ca\",                        [{\"hovertemplate\":\"label=A\\u003cbr\\u003ex=%{x}\\u003cbr\\u003ey=%{y}\\u003cbr\\u003ez=%{z}\\u003cextra\\u003e\\u003c\\u002fextra\\u003e\",\"legendgroup\":\"A\",\"marker\":{\"color\":\"#636efa\",\"symbol\":\"circle\"},\"mode\":\"markers\",\"name\":\"A\",\"scene\":\"scene\",\"showlegend\":true,\"x\":[1],\"y\":[10],\"z\":[100],\"type\":\"scatter3d\"},{\"hovertemplate\":\"label=B\\u003cbr\\u003ex=%{x}\\u003cbr\\u003ey=%{y}\\u003cbr\\u003ez=%{z}\\u003cextra\\u003e\\u003c\\u002fextra\\u003e\",\"legendgroup\":\"B\",\"marker\":{\"color\":\"#EF553B\",\"symbol\":\"circle\"},\"mode\":\"markers\",\"name\":\"B\",\"scene\":\"scene\",\"showlegend\":true,\"x\":[2],\"y\":[11],\"z\":[200],\"type\":\"scatter3d\"},{\"hovertemplate\":\"label=C\\u003cbr\\u003ex=%{x}\\u003cbr\\u003ey=%{y}\\u003cbr\\u003ez=%{z}\\u003cextra\\u003e\\u003c\\u002fextra\\u003e\",\"legendgroup\":\"C\",\"marker\":{\"color\":\"#00cc96\",\"symbol\":\"circle\"},\"mode\":\"markers\",\"name\":\"C\",\"scene\":\"scene\",\"showlegend\":true,\"x\":[3],\"y\":[12],\"z\":[300],\"type\":\"scatter3d\"},{\"hovertemplate\":\"label=D\\u003cbr\\u003ex=%{x}\\u003cbr\\u003ey=%{y}\\u003cbr\\u003ez=%{z}\\u003cextra\\u003e\\u003c\\u002fextra\\u003e\",\"legendgroup\":\"D\",\"marker\":{\"color\":\"#ab63fa\",\"symbol\":\"circle\"},\"mode\":\"markers\",\"name\":\"D\",\"scene\":\"scene\",\"showlegend\":true,\"x\":[4],\"y\":[13],\"z\":[400],\"type\":\"scatter3d\"},{\"hovertemplate\":\"label=E\\u003cbr\\u003ex=%{x}\\u003cbr\\u003ey=%{y}\\u003cbr\\u003ez=%{z}\\u003cextra\\u003e\\u003c\\u002fextra\\u003e\",\"legendgroup\":\"E\",\"marker\":{\"color\":\"#FFA15A\",\"symbol\":\"circle\"},\"mode\":\"markers\",\"name\":\"E\",\"scene\":\"scene\",\"showlegend\":true,\"x\":[5],\"y\":[14],\"z\":[500],\"type\":\"scatter3d\"}],                        {\"template\":{\"data\":{\"histogram2dcontour\":[{\"type\":\"histogram2dcontour\",\"colorbar\":{\"outlinewidth\":0,\"ticks\":\"\"},\"colorscale\":[[0.0,\"#0d0887\"],[0.1111111111111111,\"#46039f\"],[0.2222222222222222,\"#7201a8\"],[0.3333333333333333,\"#9c179e\"],[0.4444444444444444,\"#bd3786\"],[0.5555555555555556,\"#d8576b\"],[0.6666666666666666,\"#ed7953\"],[0.7777777777777778,\"#fb9f3a\"],[0.8888888888888888,\"#fdca26\"],[1.0,\"#f0f921\"]]}],\"choropleth\":[{\"type\":\"choropleth\",\"colorbar\":{\"outlinewidth\":0,\"ticks\":\"\"}}],\"histogram2d\":[{\"type\":\"histogram2d\",\"colorbar\":{\"outlinewidth\":0,\"ticks\":\"\"},\"colorscale\":[[0.0,\"#0d0887\"],[0.1111111111111111,\"#46039f\"],[0.2222222222222222,\"#7201a8\"],[0.3333333333333333,\"#9c179e\"],[0.4444444444444444,\"#bd3786\"],[0.5555555555555556,\"#d8576b\"],[0.6666666666666666,\"#ed7953\"],[0.7777777777777778,\"#fb9f3a\"],[0.8888888888888888,\"#fdca26\"],[1.0,\"#f0f921\"]]}],\"heatmap\":[{\"type\":\"heatmap\",\"colorbar\":{\"outlinewidth\":0,\"ticks\":\"\"},\"colorscale\":[[0.0,\"#0d0887\"],[0.1111111111111111,\"#46039f\"],[0.2222222222222222,\"#7201a8\"],[0.3333333333333333,\"#9c179e\"],[0.4444444444444444,\"#bd3786\"],[0.5555555555555556,\"#d8576b\"],[0.6666666666666666,\"#ed7953\"],[0.7777777777777778,\"#fb9f3a\"],[0.8888888888888888,\"#fdca26\"],[1.0,\"#f0f921\"]]}],\"heatmapgl\":[{\"type\":\"heatmapgl\",\"colorbar\":{\"outlinewidth\":0,\"ticks\":\"\"},\"colorscale\":[[0.0,\"#0d0887\"],[0.1111111111111111,\"#46039f\"],[0.2222222222222222,\"#7201a8\"],[0.3333333333333333,\"#9c179e\"],[0.4444444444444444,\"#bd3786\"],[0.5555555555555556,\"#d8576b\"],[0.6666666666666666,\"#ed7953\"],[0.7777777777777778,\"#fb9f3a\"],[0.8888888888888888,\"#fdca26\"],[1.0,\"#f0f921\"]]}],\"contourcarpet\":[{\"type\":\"contourcarpet\",\"colorbar\":{\"outlinewidth\":0,\"ticks\":\"\"}}],\"contour\":[{\"type\":\"contour\",\"colorbar\":{\"outlinewidth\":0,\"ticks\":\"\"},\"colorscale\":[[0.0,\"#0d0887\"],[0.1111111111111111,\"#46039f\"],[0.2222222222222222,\"#7201a8\"],[0.3333333333333333,\"#9c179e\"],[0.4444444444444444,\"#bd3786\"],[0.5555555555555556,\"#d8576b\"],[0.6666666666666666,\"#ed7953\"],[0.7777777777777778,\"#fb9f3a\"],[0.8888888888888888,\"#fdca26\"],[1.0,\"#f0f921\"]]}],\"surface\":[{\"type\":\"surface\",\"colorbar\":{\"outlinewidth\":0,\"ticks\":\"\"},\"colorscale\":[[0.0,\"#0d0887\"],[0.1111111111111111,\"#46039f\"],[0.2222222222222222,\"#7201a8\"],[0.3333333333333333,\"#9c179e\"],[0.4444444444444444,\"#bd3786\"],[0.5555555555555556,\"#d8576b\"],[0.6666666666666666,\"#ed7953\"],[0.7777777777777778,\"#fb9f3a\"],[0.8888888888888888,\"#fdca26\"],[1.0,\"#f0f921\"]]}],\"mesh3d\":[{\"type\":\"mesh3d\",\"colorbar\":{\"outlinewidth\":0,\"ticks\":\"\"}}],\"scatter\":[{\"fillpattern\":{\"fillmode\":\"overlay\",\"size\":10,\"solidity\":0.2},\"type\":\"scatter\"}],\"parcoords\":[{\"type\":\"parcoords\",\"line\":{\"colorbar\":{\"outlinewidth\":0,\"ticks\":\"\"}}}],\"scatterpolargl\":[{\"type\":\"scatterpolargl\",\"marker\":{\"colorbar\":{\"outlinewidth\":0,\"ticks\":\"\"}}}],\"bar\":[{\"error_x\":{\"color\":\"#2a3f5f\"},\"error_y\":{\"color\":\"#2a3f5f\"},\"marker\":{\"line\":{\"color\":\"#E5ECF6\",\"width\":0.5},\"pattern\":{\"fillmode\":\"overlay\",\"size\":10,\"solidity\":0.2}},\"type\":\"bar\"}],\"scattergeo\":[{\"type\":\"scattergeo\",\"marker\":{\"colorbar\":{\"outlinewidth\":0,\"ticks\":\"\"}}}],\"scatterpolar\":[{\"type\":\"scatterpolar\",\"marker\":{\"colorbar\":{\"outlinewidth\":0,\"ticks\":\"\"}}}],\"histogram\":[{\"marker\":{\"pattern\":{\"fillmode\":\"overlay\",\"size\":10,\"solidity\":0.2}},\"type\":\"histogram\"}],\"scattergl\":[{\"type\":\"scattergl\",\"marker\":{\"colorbar\":{\"outlinewidth\":0,\"ticks\":\"\"}}}],\"scatter3d\":[{\"type\":\"scatter3d\",\"line\":{\"colorbar\":{\"outlinewidth\":0,\"ticks\":\"\"}},\"marker\":{\"colorbar\":{\"outlinewidth\":0,\"ticks\":\"\"}}}],\"scattermapbox\":[{\"type\":\"scattermapbox\",\"marker\":{\"colorbar\":{\"outlinewidth\":0,\"ticks\":\"\"}}}],\"scatterternary\":[{\"type\":\"scatterternary\",\"marker\":{\"colorbar\":{\"outlinewidth\":0,\"ticks\":\"\"}}}],\"scattercarpet\":[{\"type\":\"scattercarpet\",\"marker\":{\"colorbar\":{\"outlinewidth\":0,\"ticks\":\"\"}}}],\"carpet\":[{\"aaxis\":{\"endlinecolor\":\"#2a3f5f\",\"gridcolor\":\"white\",\"linecolor\":\"white\",\"minorgridcolor\":\"white\",\"startlinecolor\":\"#2a3f5f\"},\"baxis\":{\"endlinecolor\":\"#2a3f5f\",\"gridcolor\":\"white\",\"linecolor\":\"white\",\"minorgridcolor\":\"white\",\"startlinecolor\":\"#2a3f5f\"},\"type\":\"carpet\"}],\"table\":[{\"cells\":{\"fill\":{\"color\":\"#EBF0F8\"},\"line\":{\"color\":\"white\"}},\"header\":{\"fill\":{\"color\":\"#C8D4E3\"},\"line\":{\"color\":\"white\"}},\"type\":\"table\"}],\"barpolar\":[{\"marker\":{\"line\":{\"color\":\"#E5ECF6\",\"width\":0.5},\"pattern\":{\"fillmode\":\"overlay\",\"size\":10,\"solidity\":0.2}},\"type\":\"barpolar\"}],\"pie\":[{\"automargin\":true,\"type\":\"pie\"}]},\"layout\":{\"autotypenumbers\":\"strict\",\"colorway\":[\"#636efa\",\"#EF553B\",\"#00cc96\",\"#ab63fa\",\"#FFA15A\",\"#19d3f3\",\"#FF6692\",\"#B6E880\",\"#FF97FF\",\"#FECB52\"],\"font\":{\"color\":\"#2a3f5f\"},\"hovermode\":\"closest\",\"hoverlabel\":{\"align\":\"left\"},\"paper_bgcolor\":\"white\",\"plot_bgcolor\":\"#E5ECF6\",\"polar\":{\"bgcolor\":\"#E5ECF6\",\"angularaxis\":{\"gridcolor\":\"white\",\"linecolor\":\"white\",\"ticks\":\"\"},\"radialaxis\":{\"gridcolor\":\"white\",\"linecolor\":\"white\",\"ticks\":\"\"}},\"ternary\":{\"bgcolor\":\"#E5ECF6\",\"aaxis\":{\"gridcolor\":\"white\",\"linecolor\":\"white\",\"ticks\":\"\"},\"baxis\":{\"gridcolor\":\"white\",\"linecolor\":\"white\",\"ticks\":\"\"},\"caxis\":{\"gridcolor\":\"white\",\"linecolor\":\"white\",\"ticks\":\"\"}},\"coloraxis\":{\"colorbar\":{\"outlinewidth\":0,\"ticks\":\"\"}},\"colorscale\":{\"sequential\":[[0.0,\"#0d0887\"],[0.1111111111111111,\"#46039f\"],[0.2222222222222222,\"#7201a8\"],[0.3333333333333333,\"#9c179e\"],[0.4444444444444444,\"#bd3786\"],[0.5555555555555556,\"#d8576b\"],[0.6666666666666666,\"#ed7953\"],[0.7777777777777778,\"#fb9f3a\"],[0.8888888888888888,\"#fdca26\"],[1.0,\"#f0f921\"]],\"sequentialminus\":[[0.0,\"#0d0887\"],[0.1111111111111111,\"#46039f\"],[0.2222222222222222,\"#7201a8\"],[0.3333333333333333,\"#9c179e\"],[0.4444444444444444,\"#bd3786\"],[0.5555555555555556,\"#d8576b\"],[0.6666666666666666,\"#ed7953\"],[0.7777777777777778,\"#fb9f3a\"],[0.8888888888888888,\"#fdca26\"],[1.0,\"#f0f921\"]],\"diverging\":[[0,\"#8e0152\"],[0.1,\"#c51b7d\"],[0.2,\"#de77ae\"],[0.3,\"#f1b6da\"],[0.4,\"#fde0ef\"],[0.5,\"#f7f7f7\"],[0.6,\"#e6f5d0\"],[0.7,\"#b8e186\"],[0.8,\"#7fbc41\"],[0.9,\"#4d9221\"],[1,\"#276419\"]]},\"xaxis\":{\"gridcolor\":\"white\",\"linecolor\":\"white\",\"ticks\":\"\",\"title\":{\"standoff\":15},\"zerolinecolor\":\"white\",\"automargin\":true,\"zerolinewidth\":2},\"yaxis\":{\"gridcolor\":\"white\",\"linecolor\":\"white\",\"ticks\":\"\",\"title\":{\"standoff\":15},\"zerolinecolor\":\"white\",\"automargin\":true,\"zerolinewidth\":2},\"scene\":{\"xaxis\":{\"backgroundcolor\":\"#E5ECF6\",\"gridcolor\":\"white\",\"linecolor\":\"white\",\"showbackground\":true,\"ticks\":\"\",\"zerolinecolor\":\"white\",\"gridwidth\":2},\"yaxis\":{\"backgroundcolor\":\"#E5ECF6\",\"gridcolor\":\"white\",\"linecolor\":\"white\",\"showbackground\":true,\"ticks\":\"\",\"zerolinecolor\":\"white\",\"gridwidth\":2},\"zaxis\":{\"backgroundcolor\":\"#E5ECF6\",\"gridcolor\":\"white\",\"linecolor\":\"white\",\"showbackground\":true,\"ticks\":\"\",\"zerolinecolor\":\"white\",\"gridwidth\":2}},\"shapedefaults\":{\"line\":{\"color\":\"#2a3f5f\"}},\"annotationdefaults\":{\"arrowcolor\":\"#2a3f5f\",\"arrowhead\":0,\"arrowwidth\":1},\"geo\":{\"bgcolor\":\"white\",\"landcolor\":\"#E5ECF6\",\"subunitcolor\":\"white\",\"showland\":true,\"showlakes\":true,\"lakecolor\":\"white\"},\"title\":{\"x\":0.05},\"mapbox\":{\"style\":\"light\"}}},\"scene\":{\"domain\":{\"x\":[0.0,1.0],\"y\":[0.0,1.0]},\"xaxis\":{\"title\":{\"text\":\"x\"}},\"yaxis\":{\"title\":{\"text\":\"y\"}},\"zaxis\":{\"title\":{\"text\":\"z\"}}},\"legend\":{\"title\":{\"text\":\"label\"},\"tracegroupgap\":0},\"title\":{\"text\":\"3D Scatter Plot\"}},                        {\"responsive\": true}                    ).then(function(){\n",
              "                            \n",
              "var gd = document.getElementById('44d90b9d-184f-4aab-aa44-6011ef9600ca');\n",
              "var x = new MutationObserver(function (mutations, observer) {{\n",
              "        var display = window.getComputedStyle(gd).display;\n",
              "        if (!display || display === 'none') {{\n",
              "            console.log([gd, 'removed!']);\n",
              "            Plotly.purge(gd);\n",
              "            observer.disconnect();\n",
              "        }}\n",
              "}});\n",
              "\n",
              "// Listen for the removal of the full notebook cells\n",
              "var notebookContainer = gd.closest('#notebook-container');\n",
              "if (notebookContainer) {{\n",
              "    x.observe(notebookContainer, {childList: true});\n",
              "}}\n",
              "\n",
              "// Listen for the clearing of the current output cell\n",
              "var outputEl = gd.closest('.output');\n",
              "if (outputEl) {{\n",
              "    x.observe(outputEl, {childList: true});\n",
              "}}\n",
              "\n",
              "                        })                };                            </script>        </div>\n",
              "</body>\n",
              "</html>"
            ]
          },
          "metadata": {}
        }
      ]
    }
  ]
}